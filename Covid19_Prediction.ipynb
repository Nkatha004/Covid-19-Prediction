{
 "cells": [
  {
   "cell_type": "markdown",
   "id": "f91ab711",
   "metadata": {},
   "source": [
    "## COVID-19 PREDICTION\n",
    "\n",
    "#### Aim: To build a classification model to predict the corona_result of individuals\n",
    "\n",
    "test_date indicates the date that a particular peson was tested\n",
    "\n",
    "age_60_and_above - indicates whether a particular person was above 60 years(Yes) or not(No)\n",
    "\n",
    "gender - This is basically the sex of the person being tested: male, female\n",
    "\n",
    "corona_result - Is the final finding; did the person test positive for covid or negative\n",
    "\n",
    "test_indication - Is the primary reason for testing; either the person was abroad, in contact with confirmed cases or other reasons\n",
    "\n",
    "Symptoms\n",
    "\n",
    "1. cough\n",
    "2. fever\n",
    "3. sore_throat\n",
    "4. shortness_of_breath\n",
    "5. head_ache \n",
    "\n",
    "A '1' in the above named columns indicates positive test for the symptom and a '0' indicates negative test.\n"
   ]
  },
  {
   "cell_type": "code",
   "execution_count": 1,
   "id": "4836b4d8",
   "metadata": {},
   "outputs": [
    {
     "name": "stderr",
     "output_type": "stream",
     "text": [
      "C:\\Users\\Nkatha\\anaconda3\\lib\\site-packages\\IPython\\core\\interactiveshell.py:3165: DtypeWarning: Columns (1,2,3,4,5) have mixed types.Specify dtype option on import or set low_memory=False.\n",
      "  has_raised = await self.run_ast_nodes(code_ast.body, cell_name,\n"
     ]
    }
   ],
   "source": [
    "#Including the general libraries\n",
    "\n",
    "import numpy as np\n",
    "import pandas as pd\n",
    "import seaborn as sns\n",
    "import matplotlib.pyplot as plt\n",
    "\n",
    "# reading from the csv file\n",
    "covid = pd.read_csv(\"corona.csv\")\n",
    "\n",
    "#use pandas dataframe\n",
    "covid_df = pd.DataFrame(covid)"
   ]
  },
  {
   "cell_type": "code",
   "execution_count": 2,
   "id": "3fa53d8b",
   "metadata": {},
   "outputs": [
    {
     "name": "stdout",
     "output_type": "stream",
     "text": [
      "<class 'pandas.core.frame.DataFrame'>\n",
      "RangeIndex: 278848 entries, 0 to 278847\n",
      "Data columns (total 10 columns):\n",
      " #   Column               Non-Null Count   Dtype \n",
      "---  ------               --------------   ----- \n",
      " 0   test_date            278848 non-null  object\n",
      " 1   cough                278848 non-null  object\n",
      " 2   fever                278848 non-null  object\n",
      " 3   sore_throat          278848 non-null  object\n",
      " 4   shortness_of_breath  278848 non-null  object\n",
      " 5   head_ache            278848 non-null  object\n",
      " 6   corona_result        278848 non-null  object\n",
      " 7   age_60_and_above     278848 non-null  object\n",
      " 8   gender               278848 non-null  object\n",
      " 9   test_indication      278848 non-null  object\n",
      "dtypes: object(10)\n",
      "memory usage: 21.3+ MB\n"
     ]
    }
   ],
   "source": [
    "#info of data\n",
    "\n",
    "covid.info()"
   ]
  },
  {
   "cell_type": "markdown",
   "id": "906cd7fb",
   "metadata": {},
   "source": [
    "### Data Cleaning"
   ]
  },
  {
   "cell_type": "raw",
   "id": "f46f6b22",
   "metadata": {},
   "source": [
    "Corona_result"
   ]
  },
  {
   "cell_type": "code",
   "execution_count": 3,
   "id": "4b4834f3",
   "metadata": {},
   "outputs": [
    {
     "data": {
      "text/plain": [
       "array(['negative', 'positive', 'other'], dtype=object)"
      ]
     },
     "execution_count": 3,
     "metadata": {},
     "output_type": "execute_result"
    }
   ],
   "source": [
    "covid_df['corona_result'].unique()"
   ]
  },
  {
   "cell_type": "code",
   "execution_count": 4,
   "id": "817dfd58",
   "metadata": {},
   "outputs": [],
   "source": [
    "covid_df.replace(to_replace = {'corona_result': 'other'}, value = 'negative', inplace = True)"
   ]
  },
  {
   "cell_type": "code",
   "execution_count": 5,
   "id": "6c388e21",
   "metadata": {},
   "outputs": [
    {
     "data": {
      "text/plain": [
       "array(['negative', 'positive'], dtype=object)"
      ]
     },
     "execution_count": 5,
     "metadata": {},
     "output_type": "execute_result"
    }
   ],
   "source": [
    "covid_df['corona_result'].unique()"
   ]
  },
  {
   "cell_type": "code",
   "execution_count": 6,
   "id": "89cf4518",
   "metadata": {},
   "outputs": [
    {
     "data": {
      "text/plain": [
       "array([0, 1, '0', '1', 'None'], dtype=object)"
      ]
     },
     "execution_count": 6,
     "metadata": {},
     "output_type": "execute_result"
    }
   ],
   "source": [
    "covid_df['fever'].unique()"
   ]
  },
  {
   "cell_type": "code",
   "execution_count": 7,
   "id": "fb5785a9",
   "metadata": {},
   "outputs": [
    {
     "data": {
      "text/plain": [
       "dtype('O')"
      ]
     },
     "execution_count": 7,
     "metadata": {},
     "output_type": "execute_result"
    }
   ],
   "source": [
    "covid_df['fever'].dtype"
   ]
  },
  {
   "cell_type": "code",
   "execution_count": 8,
   "id": "a15c6fce",
   "metadata": {},
   "outputs": [],
   "source": [
    "covid_df.replace(to_replace = {'fever': '0'}, value = 0, inplace = True)\n",
    "covid_df.replace(to_replace = {'fever': '1'}, value = 1, inplace = True)\n",
    "covid_df.replace(to_replace = {'fever': 'None'}, value = 0, inplace = True)"
   ]
  },
  {
   "cell_type": "code",
   "execution_count": 9,
   "id": "4428c4b1",
   "metadata": {},
   "outputs": [
    {
     "data": {
      "text/plain": [
       "dtype('int64')"
      ]
     },
     "execution_count": 9,
     "metadata": {},
     "output_type": "execute_result"
    }
   ],
   "source": [
    "covid_df['fever'].dtype"
   ]
  },
  {
   "cell_type": "code",
   "execution_count": 10,
   "id": "04fd6e88",
   "metadata": {},
   "outputs": [
    {
     "data": {
      "text/plain": [
       "array([0, 1], dtype=int64)"
      ]
     },
     "execution_count": 10,
     "metadata": {},
     "output_type": "execute_result"
    }
   ],
   "source": [
    "covid_df['fever'].unique()"
   ]
  },
  {
   "cell_type": "markdown",
   "id": "ed2d0635",
   "metadata": {},
   "source": [
    "Cough"
   ]
  },
  {
   "cell_type": "code",
   "execution_count": 11,
   "id": "3a299846",
   "metadata": {},
   "outputs": [
    {
     "data": {
      "text/plain": [
       "array([0, 1, '0', '1', 'None'], dtype=object)"
      ]
     },
     "execution_count": 11,
     "metadata": {},
     "output_type": "execute_result"
    }
   ],
   "source": [
    "covid_df['cough'].unique()"
   ]
  },
  {
   "cell_type": "code",
   "execution_count": 12,
   "id": "ef681629",
   "metadata": {},
   "outputs": [
    {
     "data": {
      "text/plain": [
       "dtype('int64')"
      ]
     },
     "execution_count": 12,
     "metadata": {},
     "output_type": "execute_result"
    }
   ],
   "source": [
    "covid_df.replace(to_replace = {'cough': '0'}, value = 0, inplace = True)\n",
    "covid_df.replace(to_replace = {'cough': '1'}, value = 1, inplace = True)\n",
    "covid_df.replace(to_replace = {'cough': 'None'}, value = 0, inplace = True)\n",
    "\n",
    "covid_df['cough'].dtype"
   ]
  },
  {
   "cell_type": "code",
   "execution_count": 13,
   "id": "1a7f1edd",
   "metadata": {},
   "outputs": [
    {
     "data": {
      "text/plain": [
       "array([0, 1], dtype=int64)"
      ]
     },
     "execution_count": 13,
     "metadata": {},
     "output_type": "execute_result"
    }
   ],
   "source": [
    "covid_df['cough'].unique()"
   ]
  },
  {
   "cell_type": "markdown",
   "id": "a659f80e",
   "metadata": {},
   "source": [
    "Sore_throat"
   ]
  },
  {
   "cell_type": "code",
   "execution_count": 14,
   "id": "3be18b36",
   "metadata": {},
   "outputs": [
    {
     "data": {
      "text/plain": [
       "array([0, 1, '0', '1', 'None'], dtype=object)"
      ]
     },
     "execution_count": 14,
     "metadata": {},
     "output_type": "execute_result"
    }
   ],
   "source": [
    "covid_df['sore_throat'].unique()"
   ]
  },
  {
   "cell_type": "code",
   "execution_count": 15,
   "id": "968f2fdf",
   "metadata": {},
   "outputs": [
    {
     "data": {
      "text/plain": [
       "dtype('int64')"
      ]
     },
     "execution_count": 15,
     "metadata": {},
     "output_type": "execute_result"
    }
   ],
   "source": [
    "covid_df.replace(to_replace = {'sore_throat': '0'}, value = 0, inplace = True)\n",
    "covid_df.replace(to_replace = {'sore_throat': '1'}, value = 1, inplace = True)\n",
    "covid_df.replace(to_replace = {'sore_throat': 'None'}, value = 0, inplace = True)\n",
    "\n",
    "covid_df['sore_throat'].dtype"
   ]
  },
  {
   "cell_type": "code",
   "execution_count": 16,
   "id": "c59ced7b",
   "metadata": {},
   "outputs": [
    {
     "data": {
      "text/plain": [
       "array([0, 1], dtype=int64)"
      ]
     },
     "execution_count": 16,
     "metadata": {},
     "output_type": "execute_result"
    }
   ],
   "source": [
    "covid_df['sore_throat'].unique()"
   ]
  },
  {
   "cell_type": "markdown",
   "id": "9e3b99ee",
   "metadata": {},
   "source": [
    "Headache"
   ]
  },
  {
   "cell_type": "code",
   "execution_count": 17,
   "id": "6e8599fa",
   "metadata": {},
   "outputs": [
    {
     "data": {
      "text/plain": [
       "array([0, 1, '0', '1', 'None'], dtype=object)"
      ]
     },
     "execution_count": 17,
     "metadata": {},
     "output_type": "execute_result"
    }
   ],
   "source": [
    "covid_df['head_ache'].unique()"
   ]
  },
  {
   "cell_type": "code",
   "execution_count": 18,
   "id": "eedaab34",
   "metadata": {},
   "outputs": [
    {
     "data": {
      "text/plain": [
       "dtype('int64')"
      ]
     },
     "execution_count": 18,
     "metadata": {},
     "output_type": "execute_result"
    }
   ],
   "source": [
    "covid_df.replace(to_replace = {'head_ache': '0'}, value = 0, inplace = True)\n",
    "covid_df.replace(to_replace = {'head_ache': '1'}, value = 1, inplace = True)\n",
    "covid_df.replace(to_replace = {'head_ache': 'None'}, value = 0, inplace = True)\n",
    "\n",
    "covid_df['head_ache'].dtype"
   ]
  },
  {
   "cell_type": "code",
   "execution_count": 19,
   "id": "16b72680",
   "metadata": {},
   "outputs": [
    {
     "data": {
      "text/plain": [
       "array([0, 1], dtype=int64)"
      ]
     },
     "execution_count": 19,
     "metadata": {},
     "output_type": "execute_result"
    }
   ],
   "source": [
    "covid_df['head_ache'].unique()"
   ]
  },
  {
   "cell_type": "markdown",
   "id": "2a9e743f",
   "metadata": {},
   "source": [
    "Shortness of breath"
   ]
  },
  {
   "cell_type": "code",
   "execution_count": 20,
   "id": "0cf6cd8c",
   "metadata": {},
   "outputs": [
    {
     "data": {
      "text/plain": [
       "array([0, 1, '0', '1', 'None'], dtype=object)"
      ]
     },
     "execution_count": 20,
     "metadata": {},
     "output_type": "execute_result"
    }
   ],
   "source": [
    "covid_df['shortness_of_breath'].unique()"
   ]
  },
  {
   "cell_type": "code",
   "execution_count": 21,
   "id": "1028cdcb",
   "metadata": {},
   "outputs": [
    {
     "data": {
      "text/plain": [
       "dtype('int64')"
      ]
     },
     "execution_count": 21,
     "metadata": {},
     "output_type": "execute_result"
    }
   ],
   "source": [
    "covid_df.replace(to_replace = {'shortness_of_breath': '0'}, value = 0, inplace = True)\n",
    "covid_df.replace(to_replace = {'shortness_of_breath': '1'}, value = 1, inplace = True)\n",
    "covid_df.replace(to_replace = {'shortness_of_breath': 'None'}, value = 0, inplace = True)\n",
    "\n",
    "covid_df['shortness_of_breath'].dtype"
   ]
  },
  {
   "cell_type": "code",
   "execution_count": 22,
   "id": "c386ff47",
   "metadata": {},
   "outputs": [
    {
     "data": {
      "text/plain": [
       "array([0, 1], dtype=int64)"
      ]
     },
     "execution_count": 22,
     "metadata": {},
     "output_type": "execute_result"
    }
   ],
   "source": [
    "covid_df['shortness_of_breath'].unique()"
   ]
  },
  {
   "cell_type": "code",
   "execution_count": 23,
   "id": "56f723c4",
   "metadata": {},
   "outputs": [
    {
     "name": "stdout",
     "output_type": "stream",
     "text": [
      "<class 'pandas.core.frame.DataFrame'>\n",
      "RangeIndex: 278848 entries, 0 to 278847\n",
      "Data columns (total 10 columns):\n",
      " #   Column               Non-Null Count   Dtype \n",
      "---  ------               --------------   ----- \n",
      " 0   test_date            278848 non-null  object\n",
      " 1   cough                278848 non-null  int64 \n",
      " 2   fever                278848 non-null  int64 \n",
      " 3   sore_throat          278848 non-null  int64 \n",
      " 4   shortness_of_breath  278848 non-null  int64 \n",
      " 5   head_ache            278848 non-null  int64 \n",
      " 6   corona_result        278848 non-null  object\n",
      " 7   age_60_and_above     278848 non-null  object\n",
      " 8   gender               278848 non-null  object\n",
      " 9   test_indication      278848 non-null  object\n",
      "dtypes: int64(5), object(5)\n",
      "memory usage: 21.3+ MB\n"
     ]
    }
   ],
   "source": [
    "#Info of the data\n",
    "covid_df.info()"
   ]
  },
  {
   "cell_type": "code",
   "execution_count": 24,
   "id": "5ba2adae",
   "metadata": {},
   "outputs": [
    {
     "data": {
      "text/plain": [
       "array(['None', 'Yes', 'No'], dtype=object)"
      ]
     },
     "execution_count": 24,
     "metadata": {},
     "output_type": "execute_result"
    }
   ],
   "source": [
    "covid_df['age_60_and_above'].unique()\n"
   ]
  },
  {
   "cell_type": "code",
   "execution_count": 25,
   "id": "b59fe2fd",
   "metadata": {},
   "outputs": [
    {
     "data": {
      "text/plain": [
       "array(['No', 'Yes'], dtype=object)"
      ]
     },
     "execution_count": 25,
     "metadata": {},
     "output_type": "execute_result"
    }
   ],
   "source": [
    "covid_df.replace(to_replace = {'age_60_and_above': 'None'}, value = 'No', inplace = True)\n",
    "\n",
    "covid_df['age_60_and_above'].unique()"
   ]
  },
  {
   "cell_type": "code",
   "execution_count": 26,
   "id": "28a335d2",
   "metadata": {},
   "outputs": [
    {
     "name": "stdout",
     "output_type": "stream",
     "text": [
      "<class 'pandas.core.frame.DataFrame'>\n",
      "RangeIndex: 278848 entries, 0 to 278847\n",
      "Data columns (total 10 columns):\n",
      " #   Column               Non-Null Count   Dtype \n",
      "---  ------               --------------   ----- \n",
      " 0   test_date            278848 non-null  object\n",
      " 1   cough                278848 non-null  int64 \n",
      " 2   fever                278848 non-null  int64 \n",
      " 3   sore_throat          278848 non-null  int64 \n",
      " 4   shortness_of_breath  278848 non-null  int64 \n",
      " 5   head_ache            278848 non-null  int64 \n",
      " 6   corona_result        278848 non-null  object\n",
      " 7   age_60_and_above     278848 non-null  object\n",
      " 8   gender               278848 non-null  object\n",
      " 9   test_indication      278848 non-null  object\n",
      "dtypes: int64(5), object(5)\n",
      "memory usage: 21.3+ MB\n"
     ]
    }
   ],
   "source": [
    "covid_df.info()"
   ]
  },
  {
   "cell_type": "code",
   "execution_count": 27,
   "id": "d18ccae7",
   "metadata": {},
   "outputs": [
    {
     "data": {
      "text/plain": [
       "array(['female', 'male', 'None'], dtype=object)"
      ]
     },
     "execution_count": 27,
     "metadata": {},
     "output_type": "execute_result"
    }
   ],
   "source": [
    "covid_df['gender'].unique()"
   ]
  },
  {
   "cell_type": "code",
   "execution_count": 28,
   "id": "e1ca9cbc",
   "metadata": {},
   "outputs": [
    {
     "data": {
      "text/plain": [
       "array(['Other', 'Abroad', 'Contact with confirmed'], dtype=object)"
      ]
     },
     "execution_count": 28,
     "metadata": {},
     "output_type": "execute_result"
    }
   ],
   "source": [
    "covid_df['test_indication'].unique()"
   ]
  },
  {
   "cell_type": "code",
   "execution_count": 29,
   "id": "c0be92f1",
   "metadata": {},
   "outputs": [
    {
     "data": {
      "text/plain": [
       "272850"
      ]
     },
     "execution_count": 29,
     "metadata": {},
     "output_type": "execute_result"
    }
   ],
   "source": [
    "#check for duplicates\n",
    "covid_df.duplicated().sum()"
   ]
  },
  {
   "cell_type": "code",
   "execution_count": 30,
   "id": "3c497c4e",
   "metadata": {},
   "outputs": [
    {
     "data": {
      "text/html": [
       "<div>\n",
       "<style scoped>\n",
       "    .dataframe tbody tr th:only-of-type {\n",
       "        vertical-align: middle;\n",
       "    }\n",
       "\n",
       "    .dataframe tbody tr th {\n",
       "        vertical-align: top;\n",
       "    }\n",
       "\n",
       "    .dataframe thead th {\n",
       "        text-align: right;\n",
       "    }\n",
       "</style>\n",
       "<table border=\"1\" class=\"dataframe\">\n",
       "  <thead>\n",
       "    <tr style=\"text-align: right;\">\n",
       "      <th></th>\n",
       "      <th>test_date</th>\n",
       "      <th>cough</th>\n",
       "      <th>fever</th>\n",
       "      <th>sore_throat</th>\n",
       "      <th>shortness_of_breath</th>\n",
       "      <th>head_ache</th>\n",
       "      <th>corona_result</th>\n",
       "      <th>age_60_and_above</th>\n",
       "      <th>gender</th>\n",
       "      <th>test_indication</th>\n",
       "    </tr>\n",
       "  </thead>\n",
       "  <tbody>\n",
       "    <tr>\n",
       "      <th>0</th>\n",
       "      <td>2020-04-30</td>\n",
       "      <td>0</td>\n",
       "      <td>0</td>\n",
       "      <td>0</td>\n",
       "      <td>0</td>\n",
       "      <td>0</td>\n",
       "      <td>negative</td>\n",
       "      <td>No</td>\n",
       "      <td>female</td>\n",
       "      <td>Other</td>\n",
       "    </tr>\n",
       "    <tr>\n",
       "      <th>1</th>\n",
       "      <td>2020-04-30</td>\n",
       "      <td>1</td>\n",
       "      <td>0</td>\n",
       "      <td>0</td>\n",
       "      <td>0</td>\n",
       "      <td>0</td>\n",
       "      <td>negative</td>\n",
       "      <td>No</td>\n",
       "      <td>female</td>\n",
       "      <td>Other</td>\n",
       "    </tr>\n",
       "    <tr>\n",
       "      <th>2</th>\n",
       "      <td>2020-04-30</td>\n",
       "      <td>0</td>\n",
       "      <td>1</td>\n",
       "      <td>0</td>\n",
       "      <td>0</td>\n",
       "      <td>0</td>\n",
       "      <td>negative</td>\n",
       "      <td>No</td>\n",
       "      <td>male</td>\n",
       "      <td>Other</td>\n",
       "    </tr>\n",
       "    <tr>\n",
       "      <th>4</th>\n",
       "      <td>2020-04-30</td>\n",
       "      <td>1</td>\n",
       "      <td>0</td>\n",
       "      <td>0</td>\n",
       "      <td>0</td>\n",
       "      <td>0</td>\n",
       "      <td>negative</td>\n",
       "      <td>No</td>\n",
       "      <td>male</td>\n",
       "      <td>Other</td>\n",
       "    </tr>\n",
       "    <tr>\n",
       "      <th>6</th>\n",
       "      <td>2020-04-30</td>\n",
       "      <td>1</td>\n",
       "      <td>1</td>\n",
       "      <td>0</td>\n",
       "      <td>0</td>\n",
       "      <td>0</td>\n",
       "      <td>negative</td>\n",
       "      <td>No</td>\n",
       "      <td>male</td>\n",
       "      <td>Abroad</td>\n",
       "    </tr>\n",
       "    <tr>\n",
       "      <th>...</th>\n",
       "      <td>...</td>\n",
       "      <td>...</td>\n",
       "      <td>...</td>\n",
       "      <td>...</td>\n",
       "      <td>...</td>\n",
       "      <td>...</td>\n",
       "      <td>...</td>\n",
       "      <td>...</td>\n",
       "      <td>...</td>\n",
       "      <td>...</td>\n",
       "    </tr>\n",
       "    <tr>\n",
       "      <th>278829</th>\n",
       "      <td>2020-03-11</td>\n",
       "      <td>0</td>\n",
       "      <td>0</td>\n",
       "      <td>1</td>\n",
       "      <td>0</td>\n",
       "      <td>1</td>\n",
       "      <td>positive</td>\n",
       "      <td>No</td>\n",
       "      <td>None</td>\n",
       "      <td>Other</td>\n",
       "    </tr>\n",
       "    <tr>\n",
       "      <th>278830</th>\n",
       "      <td>2020-03-11</td>\n",
       "      <td>0</td>\n",
       "      <td>1</td>\n",
       "      <td>0</td>\n",
       "      <td>0</td>\n",
       "      <td>0</td>\n",
       "      <td>positive</td>\n",
       "      <td>No</td>\n",
       "      <td>None</td>\n",
       "      <td>Contact with confirmed</td>\n",
       "    </tr>\n",
       "    <tr>\n",
       "      <th>278831</th>\n",
       "      <td>2020-03-11</td>\n",
       "      <td>1</td>\n",
       "      <td>1</td>\n",
       "      <td>1</td>\n",
       "      <td>0</td>\n",
       "      <td>1</td>\n",
       "      <td>positive</td>\n",
       "      <td>No</td>\n",
       "      <td>None</td>\n",
       "      <td>Abroad</td>\n",
       "    </tr>\n",
       "    <tr>\n",
       "      <th>278833</th>\n",
       "      <td>2020-03-11</td>\n",
       "      <td>0</td>\n",
       "      <td>1</td>\n",
       "      <td>1</td>\n",
       "      <td>0</td>\n",
       "      <td>0</td>\n",
       "      <td>positive</td>\n",
       "      <td>No</td>\n",
       "      <td>None</td>\n",
       "      <td>Abroad</td>\n",
       "    </tr>\n",
       "    <tr>\n",
       "      <th>278834</th>\n",
       "      <td>2020-03-11</td>\n",
       "      <td>1</td>\n",
       "      <td>0</td>\n",
       "      <td>1</td>\n",
       "      <td>0</td>\n",
       "      <td>1</td>\n",
       "      <td>positive</td>\n",
       "      <td>No</td>\n",
       "      <td>None</td>\n",
       "      <td>Abroad</td>\n",
       "    </tr>\n",
       "  </tbody>\n",
       "</table>\n",
       "<p>5998 rows × 10 columns</p>\n",
       "</div>"
      ],
      "text/plain": [
       "         test_date  cough  fever  sore_throat  shortness_of_breath  head_ache  \\\n",
       "0       2020-04-30      0      0            0                    0          0   \n",
       "1       2020-04-30      1      0            0                    0          0   \n",
       "2       2020-04-30      0      1            0                    0          0   \n",
       "4       2020-04-30      1      0            0                    0          0   \n",
       "6       2020-04-30      1      1            0                    0          0   \n",
       "...            ...    ...    ...          ...                  ...        ...   \n",
       "278829  2020-03-11      0      0            1                    0          1   \n",
       "278830  2020-03-11      0      1            0                    0          0   \n",
       "278831  2020-03-11      1      1            1                    0          1   \n",
       "278833  2020-03-11      0      1            1                    0          0   \n",
       "278834  2020-03-11      1      0            1                    0          1   \n",
       "\n",
       "       corona_result age_60_and_above  gender         test_indication  \n",
       "0           negative               No  female                   Other  \n",
       "1           negative               No  female                   Other  \n",
       "2           negative               No    male                   Other  \n",
       "4           negative               No    male                   Other  \n",
       "6           negative               No    male                  Abroad  \n",
       "...              ...              ...     ...                     ...  \n",
       "278829      positive               No    None                   Other  \n",
       "278830      positive               No    None  Contact with confirmed  \n",
       "278831      positive               No    None                  Abroad  \n",
       "278833      positive               No    None                  Abroad  \n",
       "278834      positive               No    None                  Abroad  \n",
       "\n",
       "[5998 rows x 10 columns]"
      ]
     },
     "execution_count": 30,
     "metadata": {},
     "output_type": "execute_result"
    }
   ],
   "source": [
    "#eliminate duplicates\n",
    "covid_df.drop_duplicates()"
   ]
  },
  {
   "cell_type": "code",
   "execution_count": 31,
   "id": "d5a21183",
   "metadata": {},
   "outputs": [
    {
     "data": {
      "text/plain": [
       "test_date              0\n",
       "cough                  0\n",
       "fever                  0\n",
       "sore_throat            0\n",
       "shortness_of_breath    0\n",
       "head_ache              0\n",
       "corona_result          0\n",
       "age_60_and_above       0\n",
       "gender                 0\n",
       "test_indication        0\n",
       "dtype: int64"
      ]
     },
     "execution_count": 31,
     "metadata": {},
     "output_type": "execute_result"
    }
   ],
   "source": [
    "#check for missing values\n",
    "covid_df.isnull().sum()"
   ]
  },
  {
   "cell_type": "code",
   "execution_count": 32,
   "id": "71ba147e",
   "metadata": {
    "scrolled": true
   },
   "outputs": [
    {
     "data": {
      "text/html": [
       "<div>\n",
       "<style scoped>\n",
       "    .dataframe tbody tr th:only-of-type {\n",
       "        vertical-align: middle;\n",
       "    }\n",
       "\n",
       "    .dataframe tbody tr th {\n",
       "        vertical-align: top;\n",
       "    }\n",
       "\n",
       "    .dataframe thead th {\n",
       "        text-align: right;\n",
       "    }\n",
       "</style>\n",
       "<table border=\"1\" class=\"dataframe\">\n",
       "  <thead>\n",
       "    <tr style=\"text-align: right;\">\n",
       "      <th></th>\n",
       "      <th>cough</th>\n",
       "      <th>fever</th>\n",
       "      <th>sore_throat</th>\n",
       "      <th>shortness_of_breath</th>\n",
       "      <th>head_ache</th>\n",
       "    </tr>\n",
       "  </thead>\n",
       "  <tbody>\n",
       "    <tr>\n",
       "      <th>count</th>\n",
       "      <td>278848.000000</td>\n",
       "      <td>278848.000000</td>\n",
       "      <td>278848.000000</td>\n",
       "      <td>278848.000000</td>\n",
       "      <td>278848.000000</td>\n",
       "    </tr>\n",
       "    <tr>\n",
       "      <th>mean</th>\n",
       "      <td>0.151437</td>\n",
       "      <td>0.078007</td>\n",
       "      <td>0.006907</td>\n",
       "      <td>0.005655</td>\n",
       "      <td>0.008657</td>\n",
       "    </tr>\n",
       "    <tr>\n",
       "      <th>std</th>\n",
       "      <td>0.358475</td>\n",
       "      <td>0.268183</td>\n",
       "      <td>0.082821</td>\n",
       "      <td>0.074990</td>\n",
       "      <td>0.092640</td>\n",
       "    </tr>\n",
       "    <tr>\n",
       "      <th>min</th>\n",
       "      <td>0.000000</td>\n",
       "      <td>0.000000</td>\n",
       "      <td>0.000000</td>\n",
       "      <td>0.000000</td>\n",
       "      <td>0.000000</td>\n",
       "    </tr>\n",
       "    <tr>\n",
       "      <th>25%</th>\n",
       "      <td>0.000000</td>\n",
       "      <td>0.000000</td>\n",
       "      <td>0.000000</td>\n",
       "      <td>0.000000</td>\n",
       "      <td>0.000000</td>\n",
       "    </tr>\n",
       "    <tr>\n",
       "      <th>50%</th>\n",
       "      <td>0.000000</td>\n",
       "      <td>0.000000</td>\n",
       "      <td>0.000000</td>\n",
       "      <td>0.000000</td>\n",
       "      <td>0.000000</td>\n",
       "    </tr>\n",
       "    <tr>\n",
       "      <th>75%</th>\n",
       "      <td>0.000000</td>\n",
       "      <td>0.000000</td>\n",
       "      <td>0.000000</td>\n",
       "      <td>0.000000</td>\n",
       "      <td>0.000000</td>\n",
       "    </tr>\n",
       "    <tr>\n",
       "      <th>max</th>\n",
       "      <td>1.000000</td>\n",
       "      <td>1.000000</td>\n",
       "      <td>1.000000</td>\n",
       "      <td>1.000000</td>\n",
       "      <td>1.000000</td>\n",
       "    </tr>\n",
       "  </tbody>\n",
       "</table>\n",
       "</div>"
      ],
      "text/plain": [
       "               cough          fever    sore_throat  shortness_of_breath  \\\n",
       "count  278848.000000  278848.000000  278848.000000        278848.000000   \n",
       "mean        0.151437       0.078007       0.006907             0.005655   \n",
       "std         0.358475       0.268183       0.082821             0.074990   \n",
       "min         0.000000       0.000000       0.000000             0.000000   \n",
       "25%         0.000000       0.000000       0.000000             0.000000   \n",
       "50%         0.000000       0.000000       0.000000             0.000000   \n",
       "75%         0.000000       0.000000       0.000000             0.000000   \n",
       "max         1.000000       1.000000       1.000000             1.000000   \n",
       "\n",
       "           head_ache  \n",
       "count  278848.000000  \n",
       "mean        0.008657  \n",
       "std         0.092640  \n",
       "min         0.000000  \n",
       "25%         0.000000  \n",
       "50%         0.000000  \n",
       "75%         0.000000  \n",
       "max         1.000000  "
      ]
     },
     "execution_count": 32,
     "metadata": {},
     "output_type": "execute_result"
    }
   ],
   "source": [
    "covid_df.describe()"
   ]
  },
  {
   "cell_type": "code",
   "execution_count": 33,
   "id": "dac6d697",
   "metadata": {},
   "outputs": [
    {
     "data": {
      "text/plain": [
       "female    130158\n",
       "male      129127\n",
       "None       19563\n",
       "Name: gender, dtype: int64"
      ]
     },
     "execution_count": 33,
     "metadata": {},
     "output_type": "execute_result"
    }
   ],
   "source": [
    "covid_df['gender'].value_counts()"
   ]
  },
  {
   "cell_type": "code",
   "execution_count": 34,
   "id": "554a6a62",
   "metadata": {},
   "outputs": [],
   "source": [
    "covid_df.replace(to_replace = {'gender': 'None'}, value = 'female', inplace = True)"
   ]
  },
  {
   "cell_type": "markdown",
   "id": "8e87d7cc",
   "metadata": {},
   "source": [
    "## Data Visualization"
   ]
  },
  {
   "cell_type": "code",
   "execution_count": 35,
   "id": "d4781134",
   "metadata": {},
   "outputs": [
    {
     "data": {
      "text/plain": [
       "negative    264119\n",
       "positive     14729\n",
       "Name: corona_result, dtype: int64"
      ]
     },
     "execution_count": 35,
     "metadata": {},
     "output_type": "execute_result"
    }
   ],
   "source": [
    "covid_df['corona_result'].value_counts()"
   ]
  },
  {
   "cell_type": "code",
   "execution_count": 36,
   "id": "11f7271a",
   "metadata": {},
   "outputs": [
    {
     "data": {
      "text/plain": [
       "[Text(0.5, 1.0, 'Corona results')]"
      ]
     },
     "execution_count": 36,
     "metadata": {},
     "output_type": "execute_result"
    },
    {
     "data": {
      "image/png": "[encoded data removed]",
      "text/plain": [
       "<Figure size 864x576 with 1 Axes>"
      ]
     },
     "metadata": {
      "needs_background": "light"
     },
     "output_type": "display_data"
    }
   ],
   "source": [
    "#Number of positive and negative cases\n",
    "\n",
    "plt.figure(figsize = (12,8))\n",
    "sns.countplot(x = 'corona_result', data = covid_df, palette = 'inferno').set(title = 'Corona results')"
   ]
  },
  {
   "cell_type": "markdown",
   "id": "db18f461",
   "metadata": {},
   "source": [
    "                            Most people tested negative"
   ]
  },
  {
   "cell_type": "code",
   "execution_count": 37,
   "id": "9033caf0",
   "metadata": {},
   "outputs": [
    {
     "data": {
      "text/plain": [
       "[Text(0.5, 1.0, 'Covid results and gender of tested')]"
      ]
     },
     "execution_count": 37,
     "metadata": {},
     "output_type": "execute_result"
    },
    {
     "data": {
      "image/png": "[encoded data removed]",
      "text/plain": [
       "<Figure size 864x576 with 1 Axes>"
      ]
     },
     "metadata": {},
     "output_type": "display_data"
    }
   ],
   "source": [
    "#Gender of tested people and their results\n",
    "sns.set(rc = {'figure.figsize': (12,8)})\n",
    "sns.countplot(x = 'corona_result', hue = 'gender',\n",
    "              data = covid_df, palette = 'autumn').set(title = 'Covid results and gender of tested')"
   ]
  },
  {
   "cell_type": "markdown",
   "id": "073ba64f",
   "metadata": {},
   "source": [
    "                            Slightly more males than females tested positive"
   ]
  },
  {
   "cell_type": "code",
   "execution_count": 38,
   "id": "d72ca825",
   "metadata": {},
   "outputs": [
    {
     "data": {
      "text/plain": [
       "<seaborn.axisgrid.FacetGrid at 0x1cf03b58f10>"
      ]
     },
     "execution_count": 38,
     "metadata": {},
     "output_type": "execute_result"
    },
    {
     "data": {
      "image/png": "[encoded data removed]",
      "text/plain": [
       "<Figure size 360x360 with 1 Axes>"
      ]
     },
     "metadata": {},
     "output_type": "display_data"
    }
   ],
   "source": [
    "#Overall gender of tested people\n",
    "sns.displot(x = 'gender', data = covid_df, palette = 'husl').set(title = 'Gender of tested people')"
   ]
  },
  {
   "cell_type": "markdown",
   "id": "dfd1fad0",
   "metadata": {},
   "source": [
    "                                 Generally, Females were a majority"
   ]
  },
  {
   "cell_type": "code",
   "execution_count": 39,
   "id": "83995f9e",
   "metadata": {},
   "outputs": [
    {
     "data": {
      "text/plain": [
       "[Text(0, 0.5, 'No of people'), Text(0.5, 1.0, 'Age_60_and_above')]"
      ]
     },
     "execution_count": 39,
     "metadata": {},
     "output_type": "execute_result"
    },
    {
     "data": {
      "image/png": "[encoded data removed]",
      "text/plain": [
       "<Figure size 864x576 with 1 Axes>"
      ]
     },
     "metadata": {},
     "output_type": "display_data"
    }
   ],
   "source": [
    "#How many People are above 60? \n",
    "sns.countplot(x = 'age_60_and_above',\n",
    "              data = covid_df, palette = 'inferno').set(ylabel = 'No of people', title ='Age_60_and_above')"
   ]
  },
  {
   "cell_type": "markdown",
   "id": "845a3bb8",
   "metadata": {},
   "source": [
    "            Most of the tested people are below 60"
   ]
  },
  {
   "cell_type": "code",
   "execution_count": 40,
   "id": "0fdbcc3d",
   "metadata": {},
   "outputs": [],
   "source": [
    "above_60_yrs = covid_df.loc[covid_df['age_60_and_above']  == 'Yes']"
   ]
  },
  {
   "cell_type": "code",
   "execution_count": 41,
   "id": "c1d2bcb6",
   "metadata": {},
   "outputs": [
    {
     "data": {
      "text/plain": [
       "[Text(0.5, 1.0, 'Corona Results of people above 60 years')]"
      ]
     },
     "execution_count": 41,
     "metadata": {},
     "output_type": "execute_result"
    },
    {
     "data": {
      "image/png": "[encoded data removed]",
      "text/plain": [
       "<Figure size 864x576 with 1 Axes>"
      ]
     },
     "metadata": {},
     "output_type": "display_data"
    }
   ],
   "source": [
    "#results for people above 60\n",
    "sns.countplot(x = 'corona_result', data = above_60_yrs, palette = 'husl').set(title = 'Corona Results of people above 60 years')"
   ]
  },
  {
   "cell_type": "markdown",
   "id": "819fb78d",
   "metadata": {},
   "source": [
    "                        A majority of people tested above 60 years tested negative"
   ]
  },
  {
   "cell_type": "code",
   "execution_count": 42,
   "id": "f367097d",
   "metadata": {},
   "outputs": [
    {
     "data": {
      "text/plain": [
       "[Text(0.5, 1.0, 'Overall Gender of people above 60 years')]"
      ]
     },
     "execution_count": 42,
     "metadata": {},
     "output_type": "execute_result"
    },
    {
     "data": {
      "image/png": "[encoded data removed]",
      "text/plain": [
       "<Figure size 864x576 with 1 Axes>"
      ]
     },
     "metadata": {},
     "output_type": "display_data"
    }
   ],
   "source": [
    "#Gender of people above 60\n",
    "sns.countplot(x = 'gender', data = above_60_yrs, palette = 'inferno').set(title = 'Overall Gender of people above 60 years')"
   ]
  },
  {
   "cell_type": "markdown",
   "id": "d2f8992d",
   "metadata": {},
   "source": [
    "                        A majority of people above 60 years were females"
   ]
  },
  {
   "cell_type": "code",
   "execution_count": 43,
   "id": "56601b39",
   "metadata": {},
   "outputs": [
    {
     "data": {
      "text/plain": [
       "[Text(0, 0.5, 'No of people'),\n",
       " Text(0.5, 1.0, 'Gender of positive cases for people age 60 and above')]"
      ]
     },
     "execution_count": 43,
     "metadata": {},
     "output_type": "execute_result"
    },
    {
     "data": {
      "image/png": "[encoded data removed]",
      "text/plain": [
       "<Figure size 720x504 with 1 Axes>"
      ]
     },
     "metadata": {},
     "output_type": "display_data"
    }
   ],
   "source": [
    "positive_above_60 = covid_df.loc[(covid_df['corona_result'] == 'positive') & (covid_df['age_60_and_above'] == 'Yes')]\n",
    "\n",
    "sns.set(rc = {'figure.figsize': (10,7)})\n",
    "sns.countplot(x = 'age_60_and_above', \n",
    "              hue = 'gender', \n",
    "              data = positive_above_60).set(ylabel = 'No of people', title = 'Gender of positive cases for people age 60 and above')"
   ]
  },
  {
   "cell_type": "markdown",
   "id": "ac1810a7",
   "metadata": {},
   "source": [
    "                             A majority of people above 60 who tested positive were males"
   ]
  },
  {
   "cell_type": "code",
   "execution_count": 44,
   "id": "ec9b3d7a",
   "metadata": {},
   "outputs": [
    {
     "data": {
      "text/plain": [
       "[Text(0.5, 1.0, 'Test indication of positive cases')]"
      ]
     },
     "execution_count": 44,
     "metadata": {},
     "output_type": "execute_result"
    },
    {
     "data": {
      "image/png": "[encoded data removed]",
      "text/plain": [
       "<Figure size 720x504 with 1 Axes>"
      ]
     },
     "metadata": {},
     "output_type": "display_data"
    }
   ],
   "source": [
    "#Test indication of positive cases\n",
    "positive = covid_df.loc[(covid_df['corona_result'] == 'positive')]\n",
    "sns.countplot(x = 'test_indication', data = positive, palette = 'Blues').set(title = 'Test indication of positive cases')"
   ]
  },
  {
   "cell_type": "code",
   "execution_count": 45,
   "id": "3de76a18",
   "metadata": {},
   "outputs": [
    {
     "data": {
      "text/plain": [
       "[Text(0.5, 1.0, 'test_indication for positive cases and the genders')]"
      ]
     },
     "execution_count": 45,
     "metadata": {},
     "output_type": "execute_result"
    },
    {
     "data": {
      "image/png": "[encoded data removed]",
      "text/plain": [
       "<Figure size 720x504 with 1 Axes>"
      ]
     },
     "metadata": {},
     "output_type": "display_data"
    }
   ],
   "source": [
    "#Gender and test_indication for positive cases\n",
    "sns.countplot(x = 'test_indication', hue = 'gender', palette = 'inferno',\n",
    "              data = positive).set(title = 'test_indication for positive cases and the genders')"
   ]
  },
  {
   "cell_type": "markdown",
   "id": "1505a549",
   "metadata": {},
   "source": [
    "    Test Indication                \n",
    "    Other                        More males than females \n",
    "    Contact with confirmed       More females than males had contact with confirmed cases\n",
    "    Abroad                       More females than males"
   ]
  },
  {
   "cell_type": "markdown",
   "id": "d2936768",
   "metadata": {},
   "source": [
    "##### Checking for Most common Symptoms among positive cases"
   ]
  },
  {
   "cell_type": "code",
   "execution_count": 46,
   "id": "d5581291",
   "metadata": {},
   "outputs": [
    {
     "data": {
      "text/plain": [
       "0    8145\n",
       "1    6584\n",
       "Name: cough, dtype: int64"
      ]
     },
     "execution_count": 46,
     "metadata": {},
     "output_type": "execute_result"
    }
   ],
   "source": [
    "positive['cough'].value_counts()"
   ]
  },
  {
   "cell_type": "code",
   "execution_count": 47,
   "id": "6327aa0d",
   "metadata": {},
   "outputs": [
    {
     "data": {
      "text/plain": [
       "0    9170\n",
       "1    5559\n",
       "Name: fever, dtype: int64"
      ]
     },
     "execution_count": 47,
     "metadata": {},
     "output_type": "execute_result"
    }
   ],
   "source": [
    "positive['fever'].value_counts()"
   ]
  },
  {
   "cell_type": "code",
   "execution_count": 48,
   "id": "33c6b576",
   "metadata": {},
   "outputs": [
    {
     "data": {
      "text/plain": [
       "0    12494\n",
       "1     2235\n",
       "Name: head_ache, dtype: int64"
      ]
     },
     "execution_count": 48,
     "metadata": {},
     "output_type": "execute_result"
    }
   ],
   "source": [
    "positive['head_ache'].value_counts()"
   ]
  },
  {
   "cell_type": "code",
   "execution_count": 49,
   "id": "5c72fdfd",
   "metadata": {},
   "outputs": [
    {
     "data": {
      "text/plain": [
       "0    13203\n",
       "1     1526\n",
       "Name: sore_throat, dtype: int64"
      ]
     },
     "execution_count": 49,
     "metadata": {},
     "output_type": "execute_result"
    }
   ],
   "source": [
    "positive['sore_throat'].value_counts()"
   ]
  },
  {
   "cell_type": "code",
   "execution_count": 50,
   "id": "402e3def",
   "metadata": {},
   "outputs": [
    {
     "data": {
      "text/plain": [
       "0    13565\n",
       "1     1164\n",
       "Name: shortness_of_breath, dtype: int64"
      ]
     },
     "execution_count": 50,
     "metadata": {},
     "output_type": "execute_result"
    }
   ],
   "source": [
    "positive['shortness_of_breath'].value_counts()"
   ]
  },
  {
   "cell_type": "markdown",
   "id": "3dc1a631",
   "metadata": {},
   "source": [
    "            Cough and fever were the most common symptoms for positive cases with 6584 and 5559 cases respectively"
   ]
  },
  {
   "cell_type": "code",
   "execution_count": 51,
   "id": "a99670a1",
   "metadata": {},
   "outputs": [],
   "source": [
    "result_mapping = {'negative': 0, 'positive': 1}\n",
    "\n",
    "covid_df['corona_result'].replace(result_mapping, inplace= True)"
   ]
  },
  {
   "cell_type": "code",
   "execution_count": 52,
   "id": "427715c2",
   "metadata": {},
   "outputs": [],
   "source": [
    "gender_mapping = {'female': 0, 'male': 1}\n",
    "\n",
    "covid_df['gender'].replace(gender_mapping, inplace= True)"
   ]
  },
  {
   "cell_type": "code",
   "execution_count": 53,
   "id": "f54ce87e",
   "metadata": {},
   "outputs": [],
   "source": [
    "test_mapping = {'Contact with confirmed': 0, 'Abroad': 1, 'Other': 2}\n",
    "\n",
    "covid_df['test_indication'].replace(test_mapping, inplace= True)"
   ]
  },
  {
   "cell_type": "markdown",
   "id": "a67cc366",
   "metadata": {},
   "source": [
    "### Extracting month date and year"
   ]
  },
  {
   "cell_type": "code",
   "execution_count": 54,
   "id": "b0af2a11",
   "metadata": {},
   "outputs": [],
   "source": [
    "from datetime import datetime\n",
    "def time_column_gen(time_column, data, to_drop = False):\n",
    "    \n",
    "  # Extract values of time\n",
    "    time_values = data[time_column].values\n",
    "\n",
    "  # Extract month, year, day and day of week from startdate\n",
    "    month = [datetime.strptime(value, '%Y-%m-%d').month for value in time_values]\n",
    "    year = [datetime.strptime(value, '%Y-%m-%d').year for value in time_values]\n",
    "    day = [datetime.strptime(value, '%Y-%m-%d').day for value in time_values]\n",
    "    day_of_week = [datetime.strptime(value, '%Y-%m-%d').isoweekday() for value in time_values] \n",
    "\n",
    "  # create columns\n",
    "    data['Month'] = month\n",
    "    data['Year'] = year\n",
    "    data['Day'] = day\n",
    "    data['Day_of_week'] = day_of_week\n",
    "\n",
    "# drop original column\n",
    "    if to_drop:\n",
    "        new_data = data.drop(time_column, axis=1)\n",
    "    else:\n",
    "        new_data = data.copy()\n",
    "    return new_data\n"
   ]
  },
  {
   "cell_type": "code",
   "execution_count": 55,
   "id": "8241c6ff",
   "metadata": {},
   "outputs": [],
   "source": [
    "corona = time_column_gen('test_date', covid_df, True)"
   ]
  },
  {
   "cell_type": "code",
   "execution_count": 56,
   "id": "5e632df2",
   "metadata": {},
   "outputs": [
    {
     "data": {
      "text/html": [
       "<div>\n",
       "<style scoped>\n",
       "    .dataframe tbody tr th:only-of-type {\n",
       "        vertical-align: middle;\n",
       "    }\n",
       "\n",
       "    .dataframe tbody tr th {\n",
       "        vertical-align: top;\n",
       "    }\n",
       "\n",
       "    .dataframe thead th {\n",
       "        text-align: right;\n",
       "    }\n",
       "</style>\n",
       "<table border=\"1\" class=\"dataframe\">\n",
       "  <thead>\n",
       "    <tr style=\"text-align: right;\">\n",
       "      <th></th>\n",
       "      <th>cough</th>\n",
       "      <th>fever</th>\n",
       "      <th>sore_throat</th>\n",
       "      <th>shortness_of_breath</th>\n",
       "      <th>head_ache</th>\n",
       "      <th>corona_result</th>\n",
       "      <th>age_60_and_above</th>\n",
       "      <th>gender</th>\n",
       "      <th>test_indication</th>\n",
       "      <th>Month</th>\n",
       "      <th>Year</th>\n",
       "      <th>Day</th>\n",
       "      <th>Day_of_week</th>\n",
       "    </tr>\n",
       "  </thead>\n",
       "  <tbody>\n",
       "    <tr>\n",
       "      <th>0</th>\n",
       "      <td>0</td>\n",
       "      <td>0</td>\n",
       "      <td>0</td>\n",
       "      <td>0</td>\n",
       "      <td>0</td>\n",
       "      <td>0</td>\n",
       "      <td>No</td>\n",
       "      <td>0</td>\n",
       "      <td>2</td>\n",
       "      <td>4</td>\n",
       "      <td>2020</td>\n",
       "      <td>30</td>\n",
       "      <td>4</td>\n",
       "    </tr>\n",
       "    <tr>\n",
       "      <th>1</th>\n",
       "      <td>1</td>\n",
       "      <td>0</td>\n",
       "      <td>0</td>\n",
       "      <td>0</td>\n",
       "      <td>0</td>\n",
       "      <td>0</td>\n",
       "      <td>No</td>\n",
       "      <td>0</td>\n",
       "      <td>2</td>\n",
       "      <td>4</td>\n",
       "      <td>2020</td>\n",
       "      <td>30</td>\n",
       "      <td>4</td>\n",
       "    </tr>\n",
       "    <tr>\n",
       "      <th>2</th>\n",
       "      <td>0</td>\n",
       "      <td>1</td>\n",
       "      <td>0</td>\n",
       "      <td>0</td>\n",
       "      <td>0</td>\n",
       "      <td>0</td>\n",
       "      <td>No</td>\n",
       "      <td>1</td>\n",
       "      <td>2</td>\n",
       "      <td>4</td>\n",
       "      <td>2020</td>\n",
       "      <td>30</td>\n",
       "      <td>4</td>\n",
       "    </tr>\n",
       "    <tr>\n",
       "      <th>3</th>\n",
       "      <td>1</td>\n",
       "      <td>0</td>\n",
       "      <td>0</td>\n",
       "      <td>0</td>\n",
       "      <td>0</td>\n",
       "      <td>0</td>\n",
       "      <td>No</td>\n",
       "      <td>0</td>\n",
       "      <td>2</td>\n",
       "      <td>4</td>\n",
       "      <td>2020</td>\n",
       "      <td>30</td>\n",
       "      <td>4</td>\n",
       "    </tr>\n",
       "    <tr>\n",
       "      <th>4</th>\n",
       "      <td>1</td>\n",
       "      <td>0</td>\n",
       "      <td>0</td>\n",
       "      <td>0</td>\n",
       "      <td>0</td>\n",
       "      <td>0</td>\n",
       "      <td>No</td>\n",
       "      <td>1</td>\n",
       "      <td>2</td>\n",
       "      <td>4</td>\n",
       "      <td>2020</td>\n",
       "      <td>30</td>\n",
       "      <td>4</td>\n",
       "    </tr>\n",
       "  </tbody>\n",
       "</table>\n",
       "</div>"
      ],
      "text/plain": [
       "   cough  fever  sore_throat  shortness_of_breath  head_ache  corona_result  \\\n",
       "0      0      0            0                    0          0              0   \n",
       "1      1      0            0                    0          0              0   \n",
       "2      0      1            0                    0          0              0   \n",
       "3      1      0            0                    0          0              0   \n",
       "4      1      0            0                    0          0              0   \n",
       "\n",
       "  age_60_and_above  gender  test_indication  Month  Year  Day  Day_of_week  \n",
       "0               No       0                2      4  2020   30            4  \n",
       "1               No       0                2      4  2020   30            4  \n",
       "2               No       1                2      4  2020   30            4  \n",
       "3               No       0                2      4  2020   30            4  \n",
       "4               No       1                2      4  2020   30            4  "
      ]
     },
     "execution_count": 56,
     "metadata": {},
     "output_type": "execute_result"
    }
   ],
   "source": [
    "corona.head()"
   ]
  },
  {
   "cell_type": "markdown",
   "id": "de225570",
   "metadata": {},
   "source": [
    "### Convert categorical to numerical data"
   ]
  },
  {
   "cell_type": "code",
   "execution_count": 57,
   "id": "293445e7",
   "metadata": {},
   "outputs": [
    {
     "data": {
      "text/plain": [
       "Index(['cough', 'fever', 'sore_throat', 'shortness_of_breath', 'head_ache',\n",
       "       'corona_result', 'age_60_and_above', 'gender', 'test_indication',\n",
       "       'Month', 'Year', 'Day', 'Day_of_week'],\n",
       "      dtype='object')"
      ]
     },
     "execution_count": 57,
     "metadata": {},
     "output_type": "execute_result"
    }
   ],
   "source": [
    "from sklearn.preprocessing import LabelEncoder\n",
    "\n",
    "encoder = LabelEncoder()\n",
    "\n",
    "corona.columns"
   ]
  },
  {
   "cell_type": "code",
   "execution_count": 58,
   "id": "4716a109",
   "metadata": {},
   "outputs": [],
   "source": [
    "categorical_columns = [column for column in corona.columns if corona[column].dtype == 'object']\n",
    "for column in categorical_columns:\n",
    "    corona[column] = encoder.fit_transform(corona[column])"
   ]
  },
  {
   "cell_type": "markdown",
   "id": "572746ec",
   "metadata": {},
   "source": [
    "### Drop Unnecessary columns"
   ]
  },
  {
   "cell_type": "code",
   "execution_count": 59,
   "id": "1a250faf",
   "metadata": {},
   "outputs": [
    {
     "data": {
      "text/plain": [
       "<AxesSubplot:>"
      ]
     },
     "execution_count": 59,
     "metadata": {},
     "output_type": "execute_result"
    },
    {
     "data": {
      "image/png": "[encoded data removed]",
      "text/plain": [
       "<Figure size 864x576 with 2 Axes>"
      ]
     },
     "metadata": {},
     "output_type": "display_data"
    }
   ],
   "source": [
    "corr_matrix = corona.corr()\n",
    "\n",
    "sns.set(rc = {'figure.figsize': (12,8)})\n",
    "sns.heatmap(corr_matrix, cmap='magma', annot=True)"
   ]
  },
  {
   "cell_type": "code",
   "execution_count": 60,
   "id": "79f7d413",
   "metadata": {},
   "outputs": [],
   "source": [
    "corona.drop(['Year', 'Day_of_week'], axis=1, inplace=True)"
   ]
  },
  {
   "cell_type": "code",
   "execution_count": 61,
   "id": "22492a46",
   "metadata": {},
   "outputs": [
    {
     "data": {
      "text/html": [
       "<div>\n",
       "<style scoped>\n",
       "    .dataframe tbody tr th:only-of-type {\n",
       "        vertical-align: middle;\n",
       "    }\n",
       "\n",
       "    .dataframe tbody tr th {\n",
       "        vertical-align: top;\n",
       "    }\n",
       "\n",
       "    .dataframe thead th {\n",
       "        text-align: right;\n",
       "    }\n",
       "</style>\n",
       "<table border=\"1\" class=\"dataframe\">\n",
       "  <thead>\n",
       "    <tr style=\"text-align: right;\">\n",
       "      <th></th>\n",
       "      <th>cough</th>\n",
       "      <th>fever</th>\n",
       "      <th>sore_throat</th>\n",
       "      <th>shortness_of_breath</th>\n",
       "      <th>head_ache</th>\n",
       "      <th>corona_result</th>\n",
       "      <th>age_60_and_above</th>\n",
       "      <th>gender</th>\n",
       "      <th>test_indication</th>\n",
       "      <th>Month</th>\n",
       "      <th>Day</th>\n",
       "    </tr>\n",
       "  </thead>\n",
       "  <tbody>\n",
       "    <tr>\n",
       "      <th>0</th>\n",
       "      <td>0</td>\n",
       "      <td>0</td>\n",
       "      <td>0</td>\n",
       "      <td>0</td>\n",
       "      <td>0</td>\n",
       "      <td>0</td>\n",
       "      <td>0</td>\n",
       "      <td>0</td>\n",
       "      <td>2</td>\n",
       "      <td>4</td>\n",
       "      <td>30</td>\n",
       "    </tr>\n",
       "    <tr>\n",
       "      <th>1</th>\n",
       "      <td>1</td>\n",
       "      <td>0</td>\n",
       "      <td>0</td>\n",
       "      <td>0</td>\n",
       "      <td>0</td>\n",
       "      <td>0</td>\n",
       "      <td>0</td>\n",
       "      <td>0</td>\n",
       "      <td>2</td>\n",
       "      <td>4</td>\n",
       "      <td>30</td>\n",
       "    </tr>\n",
       "    <tr>\n",
       "      <th>2</th>\n",
       "      <td>0</td>\n",
       "      <td>1</td>\n",
       "      <td>0</td>\n",
       "      <td>0</td>\n",
       "      <td>0</td>\n",
       "      <td>0</td>\n",
       "      <td>0</td>\n",
       "      <td>1</td>\n",
       "      <td>2</td>\n",
       "      <td>4</td>\n",
       "      <td>30</td>\n",
       "    </tr>\n",
       "    <tr>\n",
       "      <th>3</th>\n",
       "      <td>1</td>\n",
       "      <td>0</td>\n",
       "      <td>0</td>\n",
       "      <td>0</td>\n",
       "      <td>0</td>\n",
       "      <td>0</td>\n",
       "      <td>0</td>\n",
       "      <td>0</td>\n",
       "      <td>2</td>\n",
       "      <td>4</td>\n",
       "      <td>30</td>\n",
       "    </tr>\n",
       "    <tr>\n",
       "      <th>4</th>\n",
       "      <td>1</td>\n",
       "      <td>0</td>\n",
       "      <td>0</td>\n",
       "      <td>0</td>\n",
       "      <td>0</td>\n",
       "      <td>0</td>\n",
       "      <td>0</td>\n",
       "      <td>1</td>\n",
       "      <td>2</td>\n",
       "      <td>4</td>\n",
       "      <td>30</td>\n",
       "    </tr>\n",
       "  </tbody>\n",
       "</table>\n",
       "</div>"
      ],
      "text/plain": [
       "   cough  fever  sore_throat  shortness_of_breath  head_ache  corona_result  \\\n",
       "0      0      0            0                    0          0              0   \n",
       "1      1      0            0                    0          0              0   \n",
       "2      0      1            0                    0          0              0   \n",
       "3      1      0            0                    0          0              0   \n",
       "4      1      0            0                    0          0              0   \n",
       "\n",
       "   age_60_and_above  gender  test_indication  Month  Day  \n",
       "0                 0       0                2      4   30  \n",
       "1                 0       0                2      4   30  \n",
       "2                 0       1                2      4   30  \n",
       "3                 0       0                2      4   30  \n",
       "4                 0       1                2      4   30  "
      ]
     },
     "execution_count": 61,
     "metadata": {},
     "output_type": "execute_result"
    }
   ],
   "source": [
    "corona.head()"
   ]
  },
  {
   "cell_type": "markdown",
   "id": "dbc2b22f",
   "metadata": {},
   "source": [
    "### Modelling - Classification"
   ]
  },
  {
   "cell_type": "code",
   "execution_count": 62,
   "id": "744521e1",
   "metadata": {},
   "outputs": [],
   "source": [
    "from sklearn.model_selection import train_test_split\n",
    "\n",
    "from sklearn.tree import DecisionTreeClassifier\n",
    "from sklearn.ensemble import RandomForestClassifier, GradientBoostingClassifier\n",
    "\n",
    "from sklearn.metrics import classification_report"
   ]
  },
  {
   "cell_type": "code",
   "execution_count": 63,
   "id": "f24efbda",
   "metadata": {},
   "outputs": [],
   "source": [
    "#Splitting data\n",
    "x = corona.drop('corona_result', axis = 1)\n",
    "y = corona['corona_result']"
   ]
  },
  {
   "cell_type": "code",
   "execution_count": 64,
   "id": "02cf868d",
   "metadata": {},
   "outputs": [],
   "source": [
    "#Train\n",
    "x_train, x_hold, y_train, y_hold = train_test_split(x, y)\n",
    "\n",
    "#Test and validate\n",
    "x_test, x_val, y_test, y_val = train_test_split(x_hold, y_hold)"
   ]
  },
  {
   "cell_type": "code",
   "execution_count": 65,
   "id": "ec17c9a3",
   "metadata": {},
   "outputs": [
    {
     "data": {
      "text/html": [
       "<div>\n",
       "<style scoped>\n",
       "    .dataframe tbody tr th:only-of-type {\n",
       "        vertical-align: middle;\n",
       "    }\n",
       "\n",
       "    .dataframe tbody tr th {\n",
       "        vertical-align: top;\n",
       "    }\n",
       "\n",
       "    .dataframe thead th {\n",
       "        text-align: right;\n",
       "    }\n",
       "</style>\n",
       "<table border=\"1\" class=\"dataframe\">\n",
       "  <thead>\n",
       "    <tr style=\"text-align: right;\">\n",
       "      <th></th>\n",
       "      <th>cough</th>\n",
       "      <th>fever</th>\n",
       "      <th>sore_throat</th>\n",
       "      <th>shortness_of_breath</th>\n",
       "      <th>head_ache</th>\n",
       "      <th>age_60_and_above</th>\n",
       "      <th>gender</th>\n",
       "      <th>test_indication</th>\n",
       "      <th>Month</th>\n",
       "      <th>Day</th>\n",
       "    </tr>\n",
       "  </thead>\n",
       "  <tbody>\n",
       "    <tr>\n",
       "      <th>29108</th>\n",
       "      <td>0</td>\n",
       "      <td>0</td>\n",
       "      <td>0</td>\n",
       "      <td>0</td>\n",
       "      <td>0</td>\n",
       "      <td>0</td>\n",
       "      <td>0</td>\n",
       "      <td>2</td>\n",
       "      <td>4</td>\n",
       "      <td>26</td>\n",
       "    </tr>\n",
       "    <tr>\n",
       "      <th>272607</th>\n",
       "      <td>0</td>\n",
       "      <td>0</td>\n",
       "      <td>0</td>\n",
       "      <td>0</td>\n",
       "      <td>0</td>\n",
       "      <td>0</td>\n",
       "      <td>0</td>\n",
       "      <td>2</td>\n",
       "      <td>3</td>\n",
       "      <td>18</td>\n",
       "    </tr>\n",
       "    <tr>\n",
       "      <th>268961</th>\n",
       "      <td>0</td>\n",
       "      <td>1</td>\n",
       "      <td>0</td>\n",
       "      <td>1</td>\n",
       "      <td>0</td>\n",
       "      <td>0</td>\n",
       "      <td>0</td>\n",
       "      <td>0</td>\n",
       "      <td>3</td>\n",
       "      <td>19</td>\n",
       "    </tr>\n",
       "    <tr>\n",
       "      <th>34244</th>\n",
       "      <td>0</td>\n",
       "      <td>0</td>\n",
       "      <td>0</td>\n",
       "      <td>0</td>\n",
       "      <td>0</td>\n",
       "      <td>0</td>\n",
       "      <td>0</td>\n",
       "      <td>2</td>\n",
       "      <td>4</td>\n",
       "      <td>25</td>\n",
       "    </tr>\n",
       "    <tr>\n",
       "      <th>150090</th>\n",
       "      <td>0</td>\n",
       "      <td>0</td>\n",
       "      <td>0</td>\n",
       "      <td>0</td>\n",
       "      <td>0</td>\n",
       "      <td>0</td>\n",
       "      <td>1</td>\n",
       "      <td>2</td>\n",
       "      <td>4</td>\n",
       "      <td>10</td>\n",
       "    </tr>\n",
       "    <tr>\n",
       "      <th>...</th>\n",
       "      <td>...</td>\n",
       "      <td>...</td>\n",
       "      <td>...</td>\n",
       "      <td>...</td>\n",
       "      <td>...</td>\n",
       "      <td>...</td>\n",
       "      <td>...</td>\n",
       "      <td>...</td>\n",
       "      <td>...</td>\n",
       "      <td>...</td>\n",
       "    </tr>\n",
       "    <tr>\n",
       "      <th>29665</th>\n",
       "      <td>0</td>\n",
       "      <td>0</td>\n",
       "      <td>0</td>\n",
       "      <td>0</td>\n",
       "      <td>0</td>\n",
       "      <td>0</td>\n",
       "      <td>0</td>\n",
       "      <td>2</td>\n",
       "      <td>4</td>\n",
       "      <td>26</td>\n",
       "    </tr>\n",
       "    <tr>\n",
       "      <th>112338</th>\n",
       "      <td>1</td>\n",
       "      <td>1</td>\n",
       "      <td>0</td>\n",
       "      <td>0</td>\n",
       "      <td>0</td>\n",
       "      <td>0</td>\n",
       "      <td>1</td>\n",
       "      <td>1</td>\n",
       "      <td>4</td>\n",
       "      <td>16</td>\n",
       "    </tr>\n",
       "    <tr>\n",
       "      <th>63517</th>\n",
       "      <td>0</td>\n",
       "      <td>0</td>\n",
       "      <td>0</td>\n",
       "      <td>0</td>\n",
       "      <td>0</td>\n",
       "      <td>0</td>\n",
       "      <td>1</td>\n",
       "      <td>2</td>\n",
       "      <td>4</td>\n",
       "      <td>21</td>\n",
       "    </tr>\n",
       "    <tr>\n",
       "      <th>66836</th>\n",
       "      <td>0</td>\n",
       "      <td>0</td>\n",
       "      <td>0</td>\n",
       "      <td>0</td>\n",
       "      <td>0</td>\n",
       "      <td>0</td>\n",
       "      <td>0</td>\n",
       "      <td>2</td>\n",
       "      <td>4</td>\n",
       "      <td>21</td>\n",
       "    </tr>\n",
       "    <tr>\n",
       "      <th>191438</th>\n",
       "      <td>0</td>\n",
       "      <td>0</td>\n",
       "      <td>0</td>\n",
       "      <td>0</td>\n",
       "      <td>0</td>\n",
       "      <td>0</td>\n",
       "      <td>1</td>\n",
       "      <td>2</td>\n",
       "      <td>4</td>\n",
       "      <td>3</td>\n",
       "    </tr>\n",
       "  </tbody>\n",
       "</table>\n",
       "<p>209136 rows × 10 columns</p>\n",
       "</div>"
      ],
      "text/plain": [
       "        cough  fever  sore_throat  shortness_of_breath  head_ache  \\\n",
       "29108       0      0            0                    0          0   \n",
       "272607      0      0            0                    0          0   \n",
       "268961      0      1            0                    1          0   \n",
       "34244       0      0            0                    0          0   \n",
       "150090      0      0            0                    0          0   \n",
       "...       ...    ...          ...                  ...        ...   \n",
       "29665       0      0            0                    0          0   \n",
       "112338      1      1            0                    0          0   \n",
       "63517       0      0            0                    0          0   \n",
       "66836       0      0            0                    0          0   \n",
       "191438      0      0            0                    0          0   \n",
       "\n",
       "        age_60_and_above  gender  test_indication  Month  Day  \n",
       "29108                  0       0                2      4   26  \n",
       "272607                 0       0                2      3   18  \n",
       "268961                 0       0                0      3   19  \n",
       "34244                  0       0                2      4   25  \n",
       "150090                 0       1                2      4   10  \n",
       "...                  ...     ...              ...    ...  ...  \n",
       "29665                  0       0                2      4   26  \n",
       "112338                 0       1                1      4   16  \n",
       "63517                  0       1                2      4   21  \n",
       "66836                  0       0                2      4   21  \n",
       "191438                 0       1                2      4    3  \n",
       "\n",
       "[209136 rows x 10 columns]"
      ]
     },
     "execution_count": 65,
     "metadata": {},
     "output_type": "execute_result"
    }
   ],
   "source": [
    "x_train"
   ]
  },
  {
   "cell_type": "code",
   "execution_count": 66,
   "id": "cf24f142",
   "metadata": {},
   "outputs": [],
   "source": [
    "def model_trainer(models, x_train, x_val, y_train, y_val):\n",
    "    \n",
    "    for model in models:\n",
    "        \n",
    "        #trains models\n",
    "        model.fit(x_train, y_train)\n",
    "        \n",
    "        #test\n",
    "        predictions = model.predict(x_val)\n",
    "        print(model)\n",
    "        \n",
    "        \n",
    "        print(classification_report(y_val, predictions))\n",
    "        print('*'*50)"
   ]
  },
  {
   "cell_type": "code",
   "execution_count": 67,
   "id": "52fd34f9",
   "metadata": {},
   "outputs": [],
   "source": [
    "#instantiate models\n",
    "dt = DecisionTreeClassifier()\n",
    "rf = RandomForestClassifier()\n",
    "gb = GradientBoostingClassifier()\n",
    "\n",
    "\n",
    "models = [dt, rf, gb]"
   ]
  },
  {
   "cell_type": "code",
   "execution_count": 68,
   "id": "31c9b260",
   "metadata": {},
   "outputs": [
    {
     "name": "stdout",
     "output_type": "stream",
     "text": [
      "DecisionTreeClassifier()\n",
      "              precision    recall  f1-score   support\n",
      "\n",
      "           0       0.98      0.99      0.98     16490\n",
      "           1       0.80      0.59      0.68       938\n",
      "\n",
      "    accuracy                           0.97     17428\n",
      "   macro avg       0.89      0.79      0.83     17428\n",
      "weighted avg       0.97      0.97      0.97     17428\n",
      "\n",
      "**************************************************\n",
      "RandomForestClassifier()\n",
      "              precision    recall  f1-score   support\n",
      "\n",
      "           0       0.98      0.99      0.98     16490\n",
      "           1       0.80      0.62      0.70       938\n",
      "\n",
      "    accuracy                           0.97     17428\n",
      "   macro avg       0.89      0.80      0.84     17428\n",
      "weighted avg       0.97      0.97      0.97     17428\n",
      "\n",
      "**************************************************\n",
      "GradientBoostingClassifier()\n",
      "              precision    recall  f1-score   support\n",
      "\n",
      "           0       0.98      0.99      0.98     16490\n",
      "           1       0.79      0.61      0.69       938\n",
      "\n",
      "    accuracy                           0.97     17428\n",
      "   macro avg       0.89      0.80      0.84     17428\n",
      "weighted avg       0.97      0.97      0.97     17428\n",
      "\n",
      "**************************************************\n"
     ]
    }
   ],
   "source": [
    "model_trainer(models, x_train, x_val, y_train, y_val)"
   ]
  },
  {
   "cell_type": "markdown",
   "id": "310f910f",
   "metadata": {},
   "source": [
    "### Saving the models"
   ]
  },
  {
   "cell_type": "code",
   "execution_count": 69,
   "id": "e4ae07e6",
   "metadata": {},
   "outputs": [
    {
     "data": {
      "text/plain": [
       "['gradientBoosting.pkl']"
      ]
     },
     "execution_count": 69,
     "metadata": {},
     "output_type": "execute_result"
    }
   ],
   "source": [
    "import joblib\n",
    "\n",
    "joblib.dump(gb, 'gradientBoosting.pkl')"
   ]
  },
  {
   "cell_type": "code",
   "execution_count": 70,
   "id": "10621d46",
   "metadata": {},
   "outputs": [
    {
     "data": {
      "text/plain": [
       "['RandomForest.pkl']"
      ]
     },
     "execution_count": 70,
     "metadata": {},
     "output_type": "execute_result"
    }
   ],
   "source": [
    "joblib.dump(rf, 'RandomForest.pkl')"
   ]
  },
  {
   "cell_type": "code",
   "execution_count": 71,
   "id": "82c644b2",
   "metadata": {},
   "outputs": [
    {
     "data": {
      "text/plain": [
       "['DecisionTree.pkl']"
      ]
     },
     "execution_count": 71,
     "metadata": {},
     "output_type": "execute_result"
    }
   ],
   "source": [
    "joblib.dump(dt, 'DecisionTree.pkl')"
   ]
  }
 ],
 "metadata": {
  "kernelspec": {
   "display_name": "Python 3",
   "language": "python",
   "name": "python3"
  },
  "language_info": {
   "codemirror_mode": {
    "name": "ipython",
    "version": 3
   },
   "file_extension": ".py",
   "mimetype": "text/x-python",
   "name": "python",
   "nbconvert_exporter": "python",
   "pygments_lexer": "ipython3",
   "version": "3.8.8"
  }
 },
 "nbformat": 4,
 "nbformat_minor": 5
}
