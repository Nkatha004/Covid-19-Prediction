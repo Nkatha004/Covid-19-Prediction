{
 "cells": [
  {
   "cell_type": "code",
   "execution_count": 1,
   "id": "4836b4d8",
   "metadata": {},
   "outputs": [
    {
     "data": {
      "text/html": [
       "<div>\n",
       "<style scoped>\n",
       "    .dataframe tbody tr th:only-of-type {\n",
       "        vertical-align: middle;\n",
       "    }\n",
       "\n",
       "    .dataframe tbody tr th {\n",
       "        vertical-align: top;\n",
       "    }\n",
       "\n",
       "    .dataframe thead th {\n",
       "        text-align: right;\n",
       "    }\n",
       "</style>\n",
       "<table border=\"1\" class=\"dataframe\">\n",
       "  <thead>\n",
       "    <tr style=\"text-align: right;\">\n",
       "      <th></th>\n",
       "      <th>test_date</th>\n",
       "      <th>cough</th>\n",
       "      <th>fever</th>\n",
       "      <th>sore_throat</th>\n",
       "      <th>shortness_of_breath</th>\n",
       "      <th>head_ache</th>\n",
       "      <th>corona_result</th>\n",
       "      <th>age_60_and_above</th>\n",
       "      <th>gender</th>\n",
       "      <th>test_indication</th>\n",
       "    </tr>\n",
       "  </thead>\n",
       "  <tbody>\n",
       "    <tr>\n",
       "      <th>0</th>\n",
       "      <td>12/11/2020</td>\n",
       "      <td>0</td>\n",
       "      <td>0</td>\n",
       "      <td>0</td>\n",
       "      <td>0</td>\n",
       "      <td>0</td>\n",
       "      <td>negative</td>\n",
       "      <td>No</td>\n",
       "      <td>male</td>\n",
       "      <td>Other</td>\n",
       "    </tr>\n",
       "    <tr>\n",
       "      <th>1</th>\n",
       "      <td>12/11/2020</td>\n",
       "      <td>0</td>\n",
       "      <td>1</td>\n",
       "      <td>0</td>\n",
       "      <td>0</td>\n",
       "      <td>0</td>\n",
       "      <td>negative</td>\n",
       "      <td>No</td>\n",
       "      <td>male</td>\n",
       "      <td>Other</td>\n",
       "    </tr>\n",
       "    <tr>\n",
       "      <th>2</th>\n",
       "      <td>12/11/2020</td>\n",
       "      <td>0</td>\n",
       "      <td>0</td>\n",
       "      <td>0</td>\n",
       "      <td>0</td>\n",
       "      <td>0</td>\n",
       "      <td>negative</td>\n",
       "      <td>Yes</td>\n",
       "      <td>female</td>\n",
       "      <td>Other</td>\n",
       "    </tr>\n",
       "    <tr>\n",
       "      <th>3</th>\n",
       "      <td>12/11/2020</td>\n",
       "      <td>0</td>\n",
       "      <td>0</td>\n",
       "      <td>0</td>\n",
       "      <td>0</td>\n",
       "      <td>0</td>\n",
       "      <td>negative</td>\n",
       "      <td>No</td>\n",
       "      <td>male</td>\n",
       "      <td>Other</td>\n",
       "    </tr>\n",
       "    <tr>\n",
       "      <th>4</th>\n",
       "      <td>12/11/2020</td>\n",
       "      <td>0</td>\n",
       "      <td>1</td>\n",
       "      <td>0</td>\n",
       "      <td>0</td>\n",
       "      <td>0</td>\n",
       "      <td>negative</td>\n",
       "      <td>No</td>\n",
       "      <td>male</td>\n",
       "      <td>Contact with confirmed</td>\n",
       "    </tr>\n",
       "  </tbody>\n",
       "</table>\n",
       "</div>"
      ],
      "text/plain": [
       "    test_date  cough  fever  sore_throat  shortness_of_breath  head_ache  \\\n",
       "0  12/11/2020      0      0            0                    0          0   \n",
       "1  12/11/2020      0      1            0                    0          0   \n",
       "2  12/11/2020      0      0            0                    0          0   \n",
       "3  12/11/2020      0      0            0                    0          0   \n",
       "4  12/11/2020      0      1            0                    0          0   \n",
       "\n",
       "  corona_result age_60_and_above  gender         test_indication  \n",
       "0      negative               No    male                   Other  \n",
       "1      negative               No    male                   Other  \n",
       "2      negative              Yes  female                   Other  \n",
       "3      negative               No    male                   Other  \n",
       "4      negative               No    male  Contact with confirmed  "
      ]
     },
     "execution_count": 1,
     "metadata": {},
     "output_type": "execute_result"
    }
   ],
   "source": [
    "#Including the needed libraries\n",
    "\n",
    "import numpy as np\n",
    "import pandas as pd\n",
    "import seaborn as sns\n",
    "import matplotlib.pyplot as plt\n",
    "\n",
    "# reading from the csv file\n",
    "covid = pd.read_csv(\"corona_0083.csv\")\n",
    "\n",
    "covid.head()"
   ]
  },
  {
   "cell_type": "code",
   "execution_count": 2,
   "id": "3fa53d8b",
   "metadata": {},
   "outputs": [
    {
     "name": "stdout",
     "output_type": "stream",
     "text": [
      "<class 'pandas.core.frame.DataFrame'>\n",
      "RangeIndex: 1048575 entries, 0 to 1048574\n",
      "Data columns (total 10 columns):\n",
      " #   Column               Non-Null Count    Dtype \n",
      "---  ------               --------------    ----- \n",
      " 0   test_date            1048575 non-null  object\n",
      " 1   cough                1048575 non-null  int64 \n",
      " 2   fever                1048575 non-null  int64 \n",
      " 3   sore_throat          1048575 non-null  int64 \n",
      " 4   shortness_of_breath  1048575 non-null  int64 \n",
      " 5   head_ache            1048575 non-null  int64 \n",
      " 6   corona_result        1048575 non-null  object\n",
      " 7   age_60_and_above     996710 non-null   object\n",
      " 8   gender               1045695 non-null  object\n",
      " 9   test_indication      1048575 non-null  object\n",
      "dtypes: int64(5), object(5)\n",
      "memory usage: 80.0+ MB\n"
     ]
    }
   ],
   "source": [
    "#info of data\n",
    "\n",
    "covid.info()"
   ]
  },
  {
   "cell_type": "markdown",
   "id": "906cd7fb",
   "metadata": {},
   "source": [
    "### Data Cleaning"
   ]
  },
  {
   "cell_type": "code",
   "execution_count": 3,
   "id": "c0be92f1",
   "metadata": {},
   "outputs": [
    {
     "data": {
      "text/plain": [
       "1034962"
      ]
     },
     "execution_count": 3,
     "metadata": {},
     "output_type": "execute_result"
    }
   ],
   "source": [
    "#check for duplicates\n",
    "covid.duplicated().sum()"
   ]
  },
  {
   "cell_type": "code",
   "execution_count": 4,
   "id": "3c497c4e",
   "metadata": {},
   "outputs": [
    {
     "data": {
      "text/html": [
       "<div>\n",
       "<style scoped>\n",
       "    .dataframe tbody tr th:only-of-type {\n",
       "        vertical-align: middle;\n",
       "    }\n",
       "\n",
       "    .dataframe tbody tr th {\n",
       "        vertical-align: top;\n",
       "    }\n",
       "\n",
       "    .dataframe thead th {\n",
       "        text-align: right;\n",
       "    }\n",
       "</style>\n",
       "<table border=\"1\" class=\"dataframe\">\n",
       "  <thead>\n",
       "    <tr style=\"text-align: right;\">\n",
       "      <th></th>\n",
       "      <th>test_date</th>\n",
       "      <th>cough</th>\n",
       "      <th>fever</th>\n",
       "      <th>sore_throat</th>\n",
       "      <th>shortness_of_breath</th>\n",
       "      <th>head_ache</th>\n",
       "      <th>corona_result</th>\n",
       "      <th>age_60_and_above</th>\n",
       "      <th>gender</th>\n",
       "      <th>test_indication</th>\n",
       "    </tr>\n",
       "  </thead>\n",
       "  <tbody>\n",
       "    <tr>\n",
       "      <th>0</th>\n",
       "      <td>12/11/2020</td>\n",
       "      <td>0</td>\n",
       "      <td>0</td>\n",
       "      <td>0</td>\n",
       "      <td>0</td>\n",
       "      <td>0</td>\n",
       "      <td>negative</td>\n",
       "      <td>No</td>\n",
       "      <td>male</td>\n",
       "      <td>Other</td>\n",
       "    </tr>\n",
       "    <tr>\n",
       "      <th>1</th>\n",
       "      <td>12/11/2020</td>\n",
       "      <td>0</td>\n",
       "      <td>1</td>\n",
       "      <td>0</td>\n",
       "      <td>0</td>\n",
       "      <td>0</td>\n",
       "      <td>negative</td>\n",
       "      <td>No</td>\n",
       "      <td>male</td>\n",
       "      <td>Other</td>\n",
       "    </tr>\n",
       "    <tr>\n",
       "      <th>2</th>\n",
       "      <td>12/11/2020</td>\n",
       "      <td>0</td>\n",
       "      <td>0</td>\n",
       "      <td>0</td>\n",
       "      <td>0</td>\n",
       "      <td>0</td>\n",
       "      <td>negative</td>\n",
       "      <td>Yes</td>\n",
       "      <td>female</td>\n",
       "      <td>Other</td>\n",
       "    </tr>\n",
       "    <tr>\n",
       "      <th>4</th>\n",
       "      <td>12/11/2020</td>\n",
       "      <td>0</td>\n",
       "      <td>1</td>\n",
       "      <td>0</td>\n",
       "      <td>0</td>\n",
       "      <td>0</td>\n",
       "      <td>negative</td>\n",
       "      <td>No</td>\n",
       "      <td>male</td>\n",
       "      <td>Contact with confirmed</td>\n",
       "    </tr>\n",
       "    <tr>\n",
       "      <th>5</th>\n",
       "      <td>12/11/2020</td>\n",
       "      <td>1</td>\n",
       "      <td>0</td>\n",
       "      <td>0</td>\n",
       "      <td>0</td>\n",
       "      <td>0</td>\n",
       "      <td>negative</td>\n",
       "      <td>No</td>\n",
       "      <td>male</td>\n",
       "      <td>Other</td>\n",
       "    </tr>\n",
       "    <tr>\n",
       "      <th>...</th>\n",
       "      <td>...</td>\n",
       "      <td>...</td>\n",
       "      <td>...</td>\n",
       "      <td>...</td>\n",
       "      <td>...</td>\n",
       "      <td>...</td>\n",
       "      <td>...</td>\n",
       "      <td>...</td>\n",
       "      <td>...</td>\n",
       "      <td>...</td>\n",
       "    </tr>\n",
       "    <tr>\n",
       "      <th>1048526</th>\n",
       "      <td>10/09/2020</td>\n",
       "      <td>1</td>\n",
       "      <td>1</td>\n",
       "      <td>1</td>\n",
       "      <td>0</td>\n",
       "      <td>1</td>\n",
       "      <td>positive</td>\n",
       "      <td>No</td>\n",
       "      <td>female</td>\n",
       "      <td>Contact with confirmed</td>\n",
       "    </tr>\n",
       "    <tr>\n",
       "      <th>1048536</th>\n",
       "      <td>10/09/2020</td>\n",
       "      <td>1</td>\n",
       "      <td>1</td>\n",
       "      <td>0</td>\n",
       "      <td>1</td>\n",
       "      <td>0</td>\n",
       "      <td>positive</td>\n",
       "      <td>No</td>\n",
       "      <td>female</td>\n",
       "      <td>Other</td>\n",
       "    </tr>\n",
       "    <tr>\n",
       "      <th>1048542</th>\n",
       "      <td>10/09/2020</td>\n",
       "      <td>0</td>\n",
       "      <td>1</td>\n",
       "      <td>0</td>\n",
       "      <td>0</td>\n",
       "      <td>0</td>\n",
       "      <td>negative</td>\n",
       "      <td>No</td>\n",
       "      <td>female</td>\n",
       "      <td>Contact with confirmed</td>\n",
       "    </tr>\n",
       "    <tr>\n",
       "      <th>1048543</th>\n",
       "      <td>10/09/2020</td>\n",
       "      <td>1</td>\n",
       "      <td>1</td>\n",
       "      <td>0</td>\n",
       "      <td>0</td>\n",
       "      <td>1</td>\n",
       "      <td>positive</td>\n",
       "      <td>Yes</td>\n",
       "      <td>female</td>\n",
       "      <td>Other</td>\n",
       "    </tr>\n",
       "    <tr>\n",
       "      <th>1048544</th>\n",
       "      <td>10/09/2020</td>\n",
       "      <td>0</td>\n",
       "      <td>0</td>\n",
       "      <td>0</td>\n",
       "      <td>0</td>\n",
       "      <td>0</td>\n",
       "      <td>positive</td>\n",
       "      <td>Yes</td>\n",
       "      <td>male</td>\n",
       "      <td>Contact with confirmed</td>\n",
       "    </tr>\n",
       "  </tbody>\n",
       "</table>\n",
       "<p>13613 rows × 10 columns</p>\n",
       "</div>"
      ],
      "text/plain": [
       "          test_date  cough  fever  sore_throat  shortness_of_breath  \\\n",
       "0        12/11/2020      0      0            0                    0   \n",
       "1        12/11/2020      0      1            0                    0   \n",
       "2        12/11/2020      0      0            0                    0   \n",
       "4        12/11/2020      0      1            0                    0   \n",
       "5        12/11/2020      1      0            0                    0   \n",
       "...             ...    ...    ...          ...                  ...   \n",
       "1048526  10/09/2020      1      1            1                    0   \n",
       "1048536  10/09/2020      1      1            0                    1   \n",
       "1048542  10/09/2020      0      1            0                    0   \n",
       "1048543  10/09/2020      1      1            0                    0   \n",
       "1048544  10/09/2020      0      0            0                    0   \n",
       "\n",
       "         head_ache corona_result age_60_and_above  gender  \\\n",
       "0                0      negative               No    male   \n",
       "1                0      negative               No    male   \n",
       "2                0      negative              Yes  female   \n",
       "4                0      negative               No    male   \n",
       "5                0      negative               No    male   \n",
       "...            ...           ...              ...     ...   \n",
       "1048526          1      positive               No  female   \n",
       "1048536          0      positive               No  female   \n",
       "1048542          0      negative               No  female   \n",
       "1048543          1      positive              Yes  female   \n",
       "1048544          0      positive              Yes    male   \n",
       "\n",
       "                test_indication  \n",
       "0                         Other  \n",
       "1                         Other  \n",
       "2                         Other  \n",
       "4        Contact with confirmed  \n",
       "5                         Other  \n",
       "...                         ...  \n",
       "1048526  Contact with confirmed  \n",
       "1048536                   Other  \n",
       "1048542  Contact with confirmed  \n",
       "1048543                   Other  \n",
       "1048544  Contact with confirmed  \n",
       "\n",
       "[13613 rows x 10 columns]"
      ]
     },
     "execution_count": 4,
     "metadata": {},
     "output_type": "execute_result"
    }
   ],
   "source": [
    "#eliminate duplicates\n",
    "covid.drop_duplicates()"
   ]
  },
  {
   "cell_type": "code",
   "execution_count": 5,
   "id": "d5a21183",
   "metadata": {},
   "outputs": [
    {
     "data": {
      "text/plain": [
       "test_date                  0\n",
       "cough                      0\n",
       "fever                      0\n",
       "sore_throat                0\n",
       "shortness_of_breath        0\n",
       "head_ache                  0\n",
       "corona_result              0\n",
       "age_60_and_above       51865\n",
       "gender                  2880\n",
       "test_indication            0\n",
       "dtype: int64"
      ]
     },
     "execution_count": 5,
     "metadata": {},
     "output_type": "execute_result"
    }
   ],
   "source": [
    "#check for missing values\n",
    "covid.isnull().sum()"
   ]
  },
  {
   "cell_type": "code",
   "execution_count": 6,
   "id": "814fa7ce",
   "metadata": {},
   "outputs": [
    {
     "data": {
      "text/plain": [
       "No     864393\n",
       "Yes    132317\n",
       "Name: age_60_and_above, dtype: int64"
      ]
     },
     "execution_count": 6,
     "metadata": {},
     "output_type": "execute_result"
    }
   ],
   "source": [
    "covid['age_60_and_above'].value_counts()"
   ]
  },
  {
   "cell_type": "code",
   "execution_count": 7,
   "id": "db88d40c",
   "metadata": {},
   "outputs": [],
   "source": [
    "#impute missing data with mode\n",
    "\n",
    "covid['age_60_and_above'] = covid['age_60_and_above'].fillna('No')"
   ]
  },
  {
   "cell_type": "code",
   "execution_count": 8,
   "id": "f21f3430",
   "metadata": {},
   "outputs": [
    {
     "data": {
      "text/plain": [
       "female    537182\n",
       "male      508513\n",
       "Name: gender, dtype: int64"
      ]
     },
     "execution_count": 8,
     "metadata": {},
     "output_type": "execute_result"
    }
   ],
   "source": [
    "covid['gender'].value_counts()"
   ]
  },
  {
   "cell_type": "code",
   "execution_count": 9,
   "id": "05845b48",
   "metadata": {},
   "outputs": [],
   "source": [
    "#impute missing data with mode\n",
    "\n",
    "covid['gender'] = covid['gender'].fillna('female')"
   ]
  },
  {
   "cell_type": "code",
   "execution_count": 10,
   "id": "1dea3351",
   "metadata": {},
   "outputs": [
    {
     "data": {
      "text/plain": [
       "test_date              0\n",
       "cough                  0\n",
       "fever                  0\n",
       "sore_throat            0\n",
       "shortness_of_breath    0\n",
       "head_ache              0\n",
       "corona_result          0\n",
       "age_60_and_above       0\n",
       "gender                 0\n",
       "test_indication        0\n",
       "dtype: int64"
      ]
     },
     "execution_count": 10,
     "metadata": {},
     "output_type": "execute_result"
    }
   ],
   "source": [
    "#confirm null values have been eliminated\n",
    "covid.isnull().sum()"
   ]
  },
  {
   "cell_type": "code",
   "execution_count": 11,
   "id": "71ba147e",
   "metadata": {},
   "outputs": [
    {
     "data": {
      "text/html": [
       "<div>\n",
       "<style scoped>\n",
       "    .dataframe tbody tr th:only-of-type {\n",
       "        vertical-align: middle;\n",
       "    }\n",
       "\n",
       "    .dataframe tbody tr th {\n",
       "        vertical-align: top;\n",
       "    }\n",
       "\n",
       "    .dataframe thead th {\n",
       "        text-align: right;\n",
       "    }\n",
       "</style>\n",
       "<table border=\"1\" class=\"dataframe\">\n",
       "  <thead>\n",
       "    <tr style=\"text-align: right;\">\n",
       "      <th></th>\n",
       "      <th>cough</th>\n",
       "      <th>fever</th>\n",
       "      <th>sore_throat</th>\n",
       "      <th>shortness_of_breath</th>\n",
       "      <th>head_ache</th>\n",
       "    </tr>\n",
       "  </thead>\n",
       "  <tbody>\n",
       "    <tr>\n",
       "      <th>count</th>\n",
       "      <td>1.048575e+06</td>\n",
       "      <td>1.048575e+06</td>\n",
       "      <td>1.048575e+06</td>\n",
       "      <td>1.048575e+06</td>\n",
       "      <td>1.048575e+06</td>\n",
       "    </tr>\n",
       "    <tr>\n",
       "      <th>mean</th>\n",
       "      <td>2.696994e-02</td>\n",
       "      <td>2.735713e-02</td>\n",
       "      <td>9.093293e-03</td>\n",
       "      <td>2.758029e-03</td>\n",
       "      <td>1.908209e-02</td>\n",
       "    </tr>\n",
       "    <tr>\n",
       "      <th>std</th>\n",
       "      <td>1.619956e-01</td>\n",
       "      <td>1.631219e-01</td>\n",
       "      <td>9.492425e-02</td>\n",
       "      <td>5.244449e-02</td>\n",
       "      <td>1.368137e-01</td>\n",
       "    </tr>\n",
       "    <tr>\n",
       "      <th>min</th>\n",
       "      <td>0.000000e+00</td>\n",
       "      <td>0.000000e+00</td>\n",
       "      <td>0.000000e+00</td>\n",
       "      <td>0.000000e+00</td>\n",
       "      <td>0.000000e+00</td>\n",
       "    </tr>\n",
       "    <tr>\n",
       "      <th>25%</th>\n",
       "      <td>0.000000e+00</td>\n",
       "      <td>0.000000e+00</td>\n",
       "      <td>0.000000e+00</td>\n",
       "      <td>0.000000e+00</td>\n",
       "      <td>0.000000e+00</td>\n",
       "    </tr>\n",
       "    <tr>\n",
       "      <th>50%</th>\n",
       "      <td>0.000000e+00</td>\n",
       "      <td>0.000000e+00</td>\n",
       "      <td>0.000000e+00</td>\n",
       "      <td>0.000000e+00</td>\n",
       "      <td>0.000000e+00</td>\n",
       "    </tr>\n",
       "    <tr>\n",
       "      <th>75%</th>\n",
       "      <td>0.000000e+00</td>\n",
       "      <td>0.000000e+00</td>\n",
       "      <td>0.000000e+00</td>\n",
       "      <td>0.000000e+00</td>\n",
       "      <td>0.000000e+00</td>\n",
       "    </tr>\n",
       "    <tr>\n",
       "      <th>max</th>\n",
       "      <td>1.000000e+00</td>\n",
       "      <td>1.000000e+00</td>\n",
       "      <td>1.000000e+00</td>\n",
       "      <td>1.000000e+00</td>\n",
       "      <td>1.000000e+00</td>\n",
       "    </tr>\n",
       "  </tbody>\n",
       "</table>\n",
       "</div>"
      ],
      "text/plain": [
       "              cough         fever   sore_throat  shortness_of_breath  \\\n",
       "count  1.048575e+06  1.048575e+06  1.048575e+06         1.048575e+06   \n",
       "mean   2.696994e-02  2.735713e-02  9.093293e-03         2.758029e-03   \n",
       "std    1.619956e-01  1.631219e-01  9.492425e-02         5.244449e-02   \n",
       "min    0.000000e+00  0.000000e+00  0.000000e+00         0.000000e+00   \n",
       "25%    0.000000e+00  0.000000e+00  0.000000e+00         0.000000e+00   \n",
       "50%    0.000000e+00  0.000000e+00  0.000000e+00         0.000000e+00   \n",
       "75%    0.000000e+00  0.000000e+00  0.000000e+00         0.000000e+00   \n",
       "max    1.000000e+00  1.000000e+00  1.000000e+00         1.000000e+00   \n",
       "\n",
       "          head_ache  \n",
       "count  1.048575e+06  \n",
       "mean   1.908209e-02  \n",
       "std    1.368137e-01  \n",
       "min    0.000000e+00  \n",
       "25%    0.000000e+00  \n",
       "50%    0.000000e+00  \n",
       "75%    0.000000e+00  \n",
       "max    1.000000e+00  "
      ]
     },
     "execution_count": 11,
     "metadata": {},
     "output_type": "execute_result"
    }
   ],
   "source": [
    "covid.describe()"
   ]
  },
  {
   "cell_type": "markdown",
   "id": "8e87d7cc",
   "metadata": {},
   "source": [
    "## Data Visualization"
   ]
  },
  {
   "cell_type": "code",
   "execution_count": 12,
   "id": "d4781134",
   "metadata": {},
   "outputs": [
    {
     "data": {
      "text/plain": [
       "negative    925290\n",
       "positive    105434\n",
       "other        17851\n",
       "Name: corona_result, dtype: int64"
      ]
     },
     "execution_count": 12,
     "metadata": {},
     "output_type": "execute_result"
    }
   ],
   "source": [
    "covid['corona_result'].value_counts()"
   ]
  },
  {
   "cell_type": "code",
   "execution_count": 13,
   "id": "11f7271a",
   "metadata": {},
   "outputs": [
    {
     "data": {
      "text/plain": [
       "[Text(0.5, 1.0, 'Corona results')]"
      ]
     },
     "execution_count": 13,
     "metadata": {},
     "output_type": "execute_result"
    },
    {
     "data": {
      "image/png": "[encoded data removed]",
      "text/plain": [
       "<Figure size 864x576 with 1 Axes>"
      ]
     },
     "metadata": {
      "needs_background": "light"
     },
     "output_type": "display_data"
    }
   ],
   "source": [
    "#Number of positive, negative and other cases\n",
    "\n",
    "plt.figure(figsize = (12,8))\n",
    "sns.countplot(x = 'corona_result', data = covid, palette = 'inferno').set(title = 'Corona results')"
   ]
  },
  {
   "cell_type": "markdown",
   "id": "db18f461",
   "metadata": {},
   "source": [
    "                            Most people tested negative"
   ]
  },
  {
   "cell_type": "code",
   "execution_count": 14,
   "id": "9033caf0",
   "metadata": {},
   "outputs": [
    {
     "data": {
      "text/plain": [
       "[Text(0.5, 1.0, 'Covid results and gender of tested')]"
      ]
     },
     "execution_count": 14,
     "metadata": {},
     "output_type": "execute_result"
    },
    {
     "data": {
      "image/png": "[encoded data removed]",
      "text/plain": [
       "<Figure size 864x576 with 1 Axes>"
      ]
     },
     "metadata": {},
     "output_type": "display_data"
    }
   ],
   "source": [
    "#Gender of tested people and their results\n",
    "sns.set(rc = {'figure.figsize': (12,8)})\n",
    "sns.countplot(x = 'corona_result', hue = 'gender',\n",
    "              data = covid, palette = 'autumn').set(title = 'Covid results and gender of tested')"
   ]
  },
  {
   "cell_type": "markdown",
   "id": "073ba64f",
   "metadata": {},
   "source": [
    "                            Slightly more males than females tested positive"
   ]
  },
  {
   "cell_type": "code",
   "execution_count": 15,
   "id": "d72ca825",
   "metadata": {},
   "outputs": [
    {
     "data": {
      "text/plain": [
       "<seaborn.axisgrid.FacetGrid at 0x1e4d9047400>"
      ]
     },
     "execution_count": 15,
     "metadata": {},
     "output_type": "execute_result"
    },
    {
     "data": {
      "image/png": "[encoded data removed]",
      "text/plain": [
       "<Figure size 360x360 with 1 Axes>"
      ]
     },
     "metadata": {},
     "output_type": "display_data"
    }
   ],
   "source": [
    "#Overall gender of tested people\n",
    "sns.displot(x = 'gender', data = covid, palette = 'husl').set(title = 'Gender of tested people')"
   ]
  },
  {
   "cell_type": "markdown",
   "id": "dfd1fad0",
   "metadata": {},
   "source": [
    "                                 Generally, Females were a majority"
   ]
  },
  {
   "cell_type": "code",
   "execution_count": 16,
   "id": "83995f9e",
   "metadata": {},
   "outputs": [
    {
     "data": {
      "text/plain": [
       "[Text(0, 0.5, 'No of people'), Text(0.5, 1.0, 'Age_60_and_above')]"
      ]
     },
     "execution_count": 16,
     "metadata": {},
     "output_type": "execute_result"
    },
    {
     "data": {
      "image/png": "[encoded data removed]",
      "text/plain": [
       "<Figure size 864x576 with 1 Axes>"
      ]
     },
     "metadata": {},
     "output_type": "display_data"
    }
   ],
   "source": [
    "#How many People are above 60? \n",
    "sns.countplot(x = 'age_60_and_above',\n",
    "              data = covid, palette = 'inferno').set(ylabel = 'No of people', title ='Age_60_and_above')"
   ]
  },
  {
   "cell_type": "code",
   "execution_count": 17,
   "id": "0fdbcc3d",
   "metadata": {},
   "outputs": [],
   "source": [
    "above_60_yrs = covid.loc[covid['age_60_and_above']  == 'Yes']"
   ]
  },
  {
   "cell_type": "code",
   "execution_count": 18,
   "id": "c1d2bcb6",
   "metadata": {},
   "outputs": [
    {
     "data": {
      "text/plain": [
       "[Text(0.5, 1.0, 'Corona Results of people above 60 years')]"
      ]
     },
     "execution_count": 18,
     "metadata": {},
     "output_type": "execute_result"
    },
    {
     "data": {
      "image/png": "[encoded data removed]",
      "text/plain": [
       "<Figure size 864x576 with 1 Axes>"
      ]
     },
     "metadata": {},
     "output_type": "display_data"
    }
   ],
   "source": [
    "#results for people above 60\n",
    "sns.countplot(x = 'corona_result', data = above_60_yrs, palette = 'husl').set(title = 'Corona Results of people above 60 years')"
   ]
  },
  {
   "cell_type": "markdown",
   "id": "819fb78d",
   "metadata": {},
   "source": [
    "                        A majority of people tested above 60 years tested negative"
   ]
  },
  {
   "cell_type": "code",
   "execution_count": 19,
   "id": "f367097d",
   "metadata": {},
   "outputs": [
    {
     "data": {
      "text/plain": [
       "[Text(0.5, 1.0, 'Overall Gender of people above 60 years')]"
      ]
     },
     "execution_count": 19,
     "metadata": {},
     "output_type": "execute_result"
    },
    {
     "data": {
      "image/png": "[encoded data removed]",
      "text/plain": [
       "<Figure size 864x576 with 1 Axes>"
      ]
     },
     "metadata": {},
     "output_type": "display_data"
    }
   ],
   "source": [
    "#Gender of people above 60\n",
    "sns.countplot(x = 'gender', data = above_60_yrs, palette = 'inferno').set(title = 'Overall Gender of people above 60 years')"
   ]
  },
  {
   "cell_type": "markdown",
   "id": "d2f8992d",
   "metadata": {},
   "source": [
    "                        A majority of people above 60 years were females"
   ]
  },
  {
   "cell_type": "code",
   "execution_count": 20,
   "id": "56601b39",
   "metadata": {},
   "outputs": [
    {
     "data": {
      "text/plain": [
       "[Text(0, 0.5, 'No of people'),\n",
       " Text(0.5, 1.0, 'Gender of positive cases for people age 60 and above')]"
      ]
     },
     "execution_count": 20,
     "metadata": {},
     "output_type": "execute_result"
    },
    {
     "data": {
      "image/png": "[encoded data removed]",
      "text/plain": [
       "<Figure size 720x504 with 1 Axes>"
      ]
     },
     "metadata": {},
     "output_type": "display_data"
    }
   ],
   "source": [
    "positive = covid.loc[(covid['corona_result'] == 'positive') & (covid['age_60_and_above'] == 'Yes')]\n",
    "\n",
    "sns.set(rc = {'figure.figsize': (10,7)})\n",
    "sns.countplot(x = 'age_60_and_above', \n",
    "              hue = 'gender', \n",
    "              data = positive).set(ylabel = 'No of people', title = 'Gender of positive cases for people age 60 and above')"
   ]
  },
  {
   "cell_type": "markdown",
   "id": "ac1810a7",
   "metadata": {},
   "source": [
    "                             A majority of people above 60 who tested positive were males"
   ]
  },
  {
   "cell_type": "code",
   "execution_count": 21,
   "id": "ec9b3d7a",
   "metadata": {},
   "outputs": [
    {
     "data": {
      "text/plain": [
       "[Text(0.5, 1.0, 'Test indication of positive cases')]"
      ]
     },
     "execution_count": 21,
     "metadata": {},
     "output_type": "execute_result"
    },
    {
     "data": {
      "image/png": "[encoded data removed]",
      "text/plain": [
       "<Figure size 720x504 with 1 Axes>"
      ]
     },
     "metadata": {},
     "output_type": "display_data"
    }
   ],
   "source": [
    "#Test indication of positive cases\n",
    "sns.countplot(x = 'test_indication', data = positive, palette = 'Blues').set(title = 'Test indication of positive cases')"
   ]
  },
  {
   "cell_type": "code",
   "execution_count": 22,
   "id": "3de76a18",
   "metadata": {},
   "outputs": [
    {
     "data": {
      "text/plain": [
       "[Text(0.5, 1.0, 'test_indication for positive cases and the genders')]"
      ]
     },
     "execution_count": 22,
     "metadata": {},
     "output_type": "execute_result"
    },
    {
     "data": {
      "image/png": "[encoded data removed]",
      "text/plain": [
       "<Figure size 720x504 with 1 Axes>"
      ]
     },
     "metadata": {},
     "output_type": "display_data"
    }
   ],
   "source": [
    "#Gender and test_indication for positive cases\n",
    "sns.countplot(x = 'test_indication', hue = 'gender', palette = 'inferno',\n",
    "              data = positive).set(title = 'test_indication for positive cases and the genders')"
   ]
  },
  {
   "cell_type": "markdown",
   "id": "1505a549",
   "metadata": {},
   "source": [
    "    Test Indication                \n",
    "    Other                        More males than females \n",
    "    Contact with confirmed       More females than males had contact with confirmed cases"
   ]
  },
  {
   "cell_type": "markdown",
   "id": "d2936768",
   "metadata": {},
   "source": [
    "##### Checking for Most common Symptoms among positive cases"
   ]
  },
  {
   "cell_type": "code",
   "execution_count": 23,
   "id": "9f3cd2f9",
   "metadata": {},
   "outputs": [
    {
     "data": {
      "text/plain": [
       "[Text(0.5, 1.0, 'Positive cases that had fever')]"
      ]
     },
     "execution_count": 23,
     "metadata": {},
     "output_type": "execute_result"
    },
    {
     "data": {
      "image/png": "[encoded data removed]",
      "text/plain": [
       "<Figure size 720x504 with 1 Axes>"
      ]
     },
     "metadata": {},
     "output_type": "display_data"
    }
   ],
   "source": [
    "sns.countplot(x = 'fever', data = positive, palette = 'gnuplot').set(title = 'Positive cases that had fever')"
   ]
  },
  {
   "cell_type": "code",
   "execution_count": 24,
   "id": "3fad3366",
   "metadata": {},
   "outputs": [
    {
     "data": {
      "text/plain": [
       "[Text(0.5, 1.0, 'Positive cases that had cough')]"
      ]
     },
     "execution_count": 24,
     "metadata": {},
     "output_type": "execute_result"
    },
    {
     "data": {
      "image/png": "[encoded data removed]",
      "text/plain": [
       "<Figure size 720x504 with 1 Axes>"
      ]
     },
     "metadata": {},
     "output_type": "display_data"
    }
   ],
   "source": [
    "sns.countplot(x = 'cough', data = positive, palette = 'gnuplot').set(title = 'Positive cases that had cough')"
   ]
  },
  {
   "cell_type": "code",
   "execution_count": 25,
   "id": "ba6f3d80",
   "metadata": {},
   "outputs": [
    {
     "data": {
      "text/plain": [
       "[Text(0.5, 1.0, 'Positive cases that had shortness_of_breath')]"
      ]
     },
     "execution_count": 25,
     "metadata": {},
     "output_type": "execute_result"
    },
    {
     "data": {
      "image/png": "[encoded data removed]",
      "text/plain": [
       "<Figure size 720x504 with 1 Axes>"
      ]
     },
     "metadata": {},
     "output_type": "display_data"
    }
   ],
   "source": [
    "sns.countplot(x = 'shortness_of_breath', data = positive, \n",
    "              palette = 'gnuplot').set(title = 'Positive cases that had shortness_of_breath')"
   ]
  },
  {
   "cell_type": "code",
   "execution_count": 26,
   "id": "ab84c1f5",
   "metadata": {},
   "outputs": [
    {
     "data": {
      "text/plain": [
       "[Text(0.5, 1.0, 'Positive cases that had sore_throat')]"
      ]
     },
     "execution_count": 26,
     "metadata": {},
     "output_type": "execute_result"
    },
    {
     "data": {
      "image/png": "[encoded data removed]",
      "text/plain": [
       "<Figure size 720x504 with 1 Axes>"
      ]
     },
     "metadata": {},
     "output_type": "display_data"
    }
   ],
   "source": [
    "sns.countplot(x = 'sore_throat', data = positive, \n",
    "              palette = 'gnuplot').set(title = 'Positive cases that had sore_throat')"
   ]
  },
  {
   "cell_type": "code",
   "execution_count": 27,
   "id": "294fc292",
   "metadata": {},
   "outputs": [
    {
     "data": {
      "text/plain": [
       "[Text(0.5, 1.0, 'Positive cases that had head_ache')]"
      ]
     },
     "execution_count": 27,
     "metadata": {},
     "output_type": "execute_result"
    },
    {
     "data": {
      "image/png": "[encoded data removed]",
      "text/plain": [
       "<Figure size 720x504 with 1 Axes>"
      ]
     },
     "metadata": {},
     "output_type": "display_data"
    }
   ],
   "source": [
    "sns.countplot(x = 'head_ache', data = positive, \n",
    "              palette = 'gnuplot').set(title = 'Positive cases that had head_ache')"
   ]
  },
  {
   "cell_type": "markdown",
   "id": "a1ad4771",
   "metadata": {},
   "source": [
    "                Cough and fever were the most common symptoms among the positive cases"
   ]
  },
  {
   "cell_type": "code",
   "execution_count": 33,
   "id": "95446fb3",
   "metadata": {},
   "outputs": [
    {
     "data": {
      "text/plain": [
       "array(['negative', 'positive', 'other'], dtype=object)"
      ]
     },
     "execution_count": 33,
     "metadata": {},
     "output_type": "execute_result"
    }
   ],
   "source": [
    "covid['corona_result'].unique()"
   ]
  },
  {
   "cell_type": "markdown",
   "id": "a67cc366",
   "metadata": {},
   "source": [
    "### Extracting month date and year"
   ]
  },
  {
   "cell_type": "code",
   "execution_count": 34,
   "id": "b0af2a11",
   "metadata": {},
   "outputs": [],
   "source": [
    "from datetime import datetime\n",
    "def time_column_gen(time_column, data, to_drop = False):\n",
    "    \n",
    "  # Extract values of time\n",
    "    time_values = data[time_column].values\n",
    "\n",
    "  # Extract month, year, day and day of week from startdate\n",
    "    month = [datetime.strptime(value, '%d/%m/%Y').month for value in time_values]\n",
    "    year = [datetime.strptime(value, '%d/%m/%Y').year for value in time_values]\n",
    "    day = [datetime.strptime(value, '%d/%m/%Y').day for value in time_values]\n",
    "    day_of_week = [datetime.strptime(value, '%d/%m/%Y').isoweekday() for value in time_values] \n",
    "\n",
    "  # create columns\n",
    "    data['Month'] = month\n",
    "    data['Year'] = year\n",
    "    data['Day'] = day\n",
    "    data['Day_of_week'] = day_of_week\n",
    "\n",
    "# drop original column\n",
    "    if to_drop:\n",
    "        new_data = data.drop(time_column, axis=1)\n",
    "    else:\n",
    "        new_data = data.copy()\n",
    "    return new_data\n"
   ]
  },
  {
   "cell_type": "code",
   "execution_count": 35,
   "id": "8241c6ff",
   "metadata": {},
   "outputs": [],
   "source": [
    "corona = time_column_gen('test_date',covid,True)"
   ]
  },
  {
   "cell_type": "code",
   "execution_count": 36,
   "id": "5e632df2",
   "metadata": {},
   "outputs": [
    {
     "data": {
      "text/html": [
       "<div>\n",
       "<style scoped>\n",
       "    .dataframe tbody tr th:only-of-type {\n",
       "        vertical-align: middle;\n",
       "    }\n",
       "\n",
       "    .dataframe tbody tr th {\n",
       "        vertical-align: top;\n",
       "    }\n",
       "\n",
       "    .dataframe thead th {\n",
       "        text-align: right;\n",
       "    }\n",
       "</style>\n",
       "<table border=\"1\" class=\"dataframe\">\n",
       "  <thead>\n",
       "    <tr style=\"text-align: right;\">\n",
       "      <th></th>\n",
       "      <th>cough</th>\n",
       "      <th>fever</th>\n",
       "      <th>sore_throat</th>\n",
       "      <th>shortness_of_breath</th>\n",
       "      <th>head_ache</th>\n",
       "      <th>corona_result</th>\n",
       "      <th>age_60_and_above</th>\n",
       "      <th>gender</th>\n",
       "      <th>test_indication</th>\n",
       "      <th>other</th>\n",
       "      <th>Month</th>\n",
       "      <th>Year</th>\n",
       "      <th>Day</th>\n",
       "      <th>Day_of_week</th>\n",
       "    </tr>\n",
       "  </thead>\n",
       "  <tbody>\n",
       "    <tr>\n",
       "      <th>0</th>\n",
       "      <td>0</td>\n",
       "      <td>0</td>\n",
       "      <td>0</td>\n",
       "      <td>0</td>\n",
       "      <td>0</td>\n",
       "      <td>negative</td>\n",
       "      <td>No</td>\n",
       "      <td>male</td>\n",
       "      <td>Other</td>\n",
       "      <td>negative</td>\n",
       "      <td>11</td>\n",
       "      <td>2020</td>\n",
       "      <td>12</td>\n",
       "      <td>4</td>\n",
       "    </tr>\n",
       "    <tr>\n",
       "      <th>1</th>\n",
       "      <td>0</td>\n",
       "      <td>1</td>\n",
       "      <td>0</td>\n",
       "      <td>0</td>\n",
       "      <td>0</td>\n",
       "      <td>negative</td>\n",
       "      <td>No</td>\n",
       "      <td>male</td>\n",
       "      <td>Other</td>\n",
       "      <td>negative</td>\n",
       "      <td>11</td>\n",
       "      <td>2020</td>\n",
       "      <td>12</td>\n",
       "      <td>4</td>\n",
       "    </tr>\n",
       "    <tr>\n",
       "      <th>2</th>\n",
       "      <td>0</td>\n",
       "      <td>0</td>\n",
       "      <td>0</td>\n",
       "      <td>0</td>\n",
       "      <td>0</td>\n",
       "      <td>negative</td>\n",
       "      <td>Yes</td>\n",
       "      <td>female</td>\n",
       "      <td>Other</td>\n",
       "      <td>negative</td>\n",
       "      <td>11</td>\n",
       "      <td>2020</td>\n",
       "      <td>12</td>\n",
       "      <td>4</td>\n",
       "    </tr>\n",
       "    <tr>\n",
       "      <th>3</th>\n",
       "      <td>0</td>\n",
       "      <td>0</td>\n",
       "      <td>0</td>\n",
       "      <td>0</td>\n",
       "      <td>0</td>\n",
       "      <td>negative</td>\n",
       "      <td>No</td>\n",
       "      <td>male</td>\n",
       "      <td>Other</td>\n",
       "      <td>negative</td>\n",
       "      <td>11</td>\n",
       "      <td>2020</td>\n",
       "      <td>12</td>\n",
       "      <td>4</td>\n",
       "    </tr>\n",
       "    <tr>\n",
       "      <th>4</th>\n",
       "      <td>0</td>\n",
       "      <td>1</td>\n",
       "      <td>0</td>\n",
       "      <td>0</td>\n",
       "      <td>0</td>\n",
       "      <td>negative</td>\n",
       "      <td>No</td>\n",
       "      <td>male</td>\n",
       "      <td>Contact with confirmed</td>\n",
       "      <td>negative</td>\n",
       "      <td>11</td>\n",
       "      <td>2020</td>\n",
       "      <td>12</td>\n",
       "      <td>4</td>\n",
       "    </tr>\n",
       "  </tbody>\n",
       "</table>\n",
       "</div>"
      ],
      "text/plain": [
       "   cough  fever  sore_throat  shortness_of_breath  head_ache corona_result  \\\n",
       "0      0      0            0                    0          0      negative   \n",
       "1      0      1            0                    0          0      negative   \n",
       "2      0      0            0                    0          0      negative   \n",
       "3      0      0            0                    0          0      negative   \n",
       "4      0      1            0                    0          0      negative   \n",
       "\n",
       "  age_60_and_above  gender         test_indication     other  Month  Year  \\\n",
       "0               No    male                   Other  negative     11  2020   \n",
       "1               No    male                   Other  negative     11  2020   \n",
       "2              Yes  female                   Other  negative     11  2020   \n",
       "3               No    male                   Other  negative     11  2020   \n",
       "4               No    male  Contact with confirmed  negative     11  2020   \n",
       "\n",
       "   Day  Day_of_week  \n",
       "0   12            4  \n",
       "1   12            4  \n",
       "2   12            4  \n",
       "3   12            4  \n",
       "4   12            4  "
      ]
     },
     "execution_count": 36,
     "metadata": {},
     "output_type": "execute_result"
    }
   ],
   "source": [
    "corona.head()"
   ]
  },
  {
   "cell_type": "markdown",
   "id": "de225570",
   "metadata": {},
   "source": [
    "### Convert categorical to numerical data"
   ]
  },
  {
   "cell_type": "code",
   "execution_count": 37,
   "id": "293445e7",
   "metadata": {},
   "outputs": [
    {
     "data": {
      "text/plain": [
       "Index(['cough', 'fever', 'sore_throat', 'shortness_of_breath', 'head_ache',\n",
       "       'corona_result', 'age_60_and_above', 'gender', 'test_indication',\n",
       "       'other', 'Month', 'Year', 'Day', 'Day_of_week'],\n",
       "      dtype='object')"
      ]
     },
     "execution_count": 37,
     "metadata": {},
     "output_type": "execute_result"
    }
   ],
   "source": [
    "from sklearn.preprocessing import LabelEncoder\n",
    "\n",
    "encoder = LabelEncoder()\n",
    "\n",
    "corona.columns"
   ]
  },
  {
   "cell_type": "code",
   "execution_count": 38,
   "id": "4716a109",
   "metadata": {},
   "outputs": [],
   "source": [
    "categorical_columns = [column for column in corona.columns if corona[column].dtype == 'object']\n",
    "\n",
    "for column in categorical_columns:\n",
    "    corona[column] = encoder.fit_transform(corona[column])"
   ]
  },
  {
   "cell_type": "markdown",
   "id": "572746ec",
   "metadata": {},
   "source": [
    "### Drop Unnecessary columns"
   ]
  },
  {
   "cell_type": "code",
   "execution_count": 39,
   "id": "1a250faf",
   "metadata": {},
   "outputs": [
    {
     "data": {
      "text/plain": [
       "<AxesSubplot:>"
      ]
     },
     "execution_count": 39,
     "metadata": {},
     "output_type": "execute_result"
    },
    {
     "data": {
      "image/png": "[encoded data removed]",
      "text/plain": [
       "<Figure size 864x576 with 2 Axes>"
      ]
     },
     "metadata": {},
     "output_type": "display_data"
    }
   ],
   "source": [
    "corr_matrix = corona.corr()\n",
    "\n",
    "sns.set(rc = {'figure.figsize': (12,8)})\n",
    "sns.heatmap(corr_matrix, cmap='magma', annot=True)"
   ]
  },
  {
   "cell_type": "code",
   "execution_count": 40,
   "id": "79f7d413",
   "metadata": {},
   "outputs": [],
   "source": [
    "corona.drop(['Day_of_week', 'test_indication'], axis=1, inplace=True)\n",
    "corona.drop(['age_60_and_above', 'gender', 'Month','Day'], axis=1, inplace=True)"
   ]
  },
  {
   "cell_type": "code",
   "execution_count": 41,
   "id": "22492a46",
   "metadata": {},
   "outputs": [
    {
     "data": {
      "text/html": [
       "<div>\n",
       "<style scoped>\n",
       "    .dataframe tbody tr th:only-of-type {\n",
       "        vertical-align: middle;\n",
       "    }\n",
       "\n",
       "    .dataframe tbody tr th {\n",
       "        vertical-align: top;\n",
       "    }\n",
       "\n",
       "    .dataframe thead th {\n",
       "        text-align: right;\n",
       "    }\n",
       "</style>\n",
       "<table border=\"1\" class=\"dataframe\">\n",
       "  <thead>\n",
       "    <tr style=\"text-align: right;\">\n",
       "      <th></th>\n",
       "      <th>cough</th>\n",
       "      <th>fever</th>\n",
       "      <th>sore_throat</th>\n",
       "      <th>shortness_of_breath</th>\n",
       "      <th>head_ache</th>\n",
       "      <th>corona_result</th>\n",
       "      <th>other</th>\n",
       "      <th>Year</th>\n",
       "    </tr>\n",
       "  </thead>\n",
       "  <tbody>\n",
       "    <tr>\n",
       "      <th>0</th>\n",
       "      <td>0</td>\n",
       "      <td>0</td>\n",
       "      <td>0</td>\n",
       "      <td>0</td>\n",
       "      <td>0</td>\n",
       "      <td>0</td>\n",
       "      <td>0</td>\n",
       "      <td>2020</td>\n",
       "    </tr>\n",
       "    <tr>\n",
       "      <th>1</th>\n",
       "      <td>0</td>\n",
       "      <td>1</td>\n",
       "      <td>0</td>\n",
       "      <td>0</td>\n",
       "      <td>0</td>\n",
       "      <td>0</td>\n",
       "      <td>0</td>\n",
       "      <td>2020</td>\n",
       "    </tr>\n",
       "    <tr>\n",
       "      <th>2</th>\n",
       "      <td>0</td>\n",
       "      <td>0</td>\n",
       "      <td>0</td>\n",
       "      <td>0</td>\n",
       "      <td>0</td>\n",
       "      <td>0</td>\n",
       "      <td>0</td>\n",
       "      <td>2020</td>\n",
       "    </tr>\n",
       "    <tr>\n",
       "      <th>3</th>\n",
       "      <td>0</td>\n",
       "      <td>0</td>\n",
       "      <td>0</td>\n",
       "      <td>0</td>\n",
       "      <td>0</td>\n",
       "      <td>0</td>\n",
       "      <td>0</td>\n",
       "      <td>2020</td>\n",
       "    </tr>\n",
       "    <tr>\n",
       "      <th>4</th>\n",
       "      <td>0</td>\n",
       "      <td>1</td>\n",
       "      <td>0</td>\n",
       "      <td>0</td>\n",
       "      <td>0</td>\n",
       "      <td>0</td>\n",
       "      <td>0</td>\n",
       "      <td>2020</td>\n",
       "    </tr>\n",
       "  </tbody>\n",
       "</table>\n",
       "</div>"
      ],
      "text/plain": [
       "   cough  fever  sore_throat  shortness_of_breath  head_ache  corona_result  \\\n",
       "0      0      0            0                    0          0              0   \n",
       "1      0      1            0                    0          0              0   \n",
       "2      0      0            0                    0          0              0   \n",
       "3      0      0            0                    0          0              0   \n",
       "4      0      1            0                    0          0              0   \n",
       "\n",
       "   other  Year  \n",
       "0      0  2020  \n",
       "1      0  2020  \n",
       "2      0  2020  \n",
       "3      0  2020  \n",
       "4      0  2020  "
      ]
     },
     "execution_count": 41,
     "metadata": {},
     "output_type": "execute_result"
    }
   ],
   "source": [
    "corona.head()"
   ]
  },
  {
   "cell_type": "code",
   "execution_count": 42,
   "id": "4b63286a",
   "metadata": {},
   "outputs": [],
   "source": [
    "corona.drop('Year', axis = 1, inplace = True)"
   ]
  },
  {
   "cell_type": "markdown",
   "id": "dbc2b22f",
   "metadata": {},
   "source": [
    "### Modelling - Classification"
   ]
  },
  {
   "cell_type": "code",
   "execution_count": 43,
   "id": "744521e1",
   "metadata": {},
   "outputs": [],
   "source": [
    "from sklearn.model_selection import train_test_split\n",
    "\n",
    "from sklearn.linear_model import LogisticRegression\n",
    "from sklearn.tree import DecisionTreeClassifier\n",
    "from sklearn.ensemble import RandomForestClassifier, AdaBoostClassifier, GradientBoostingClassifier\n",
    "from sklearn.svm import SVC\n",
    "\n",
    "from sklearn.metrics import classification_report"
   ]
  },
  {
   "cell_type": "code",
   "execution_count": 44,
   "id": "f24efbda",
   "metadata": {},
   "outputs": [],
   "source": [
    "#Splitting data\n",
    "x = corona.drop('corona_result', axis = 1)\n",
    "y = corona['corona_result']"
   ]
  },
  {
   "cell_type": "code",
   "execution_count": 45,
   "id": "02cf868d",
   "metadata": {},
   "outputs": [],
   "source": [
    "#Train\n",
    "x_train, x_hold, y_train, y_hold = train_test_split(x, y)\n",
    "\n",
    "#Test and validate\n",
    "x_test, x_val, y_test, y_val = train_test_split(x_hold, y_hold)"
   ]
  },
  {
   "cell_type": "code",
   "execution_count": 46,
   "id": "ec17c9a3",
   "metadata": {},
   "outputs": [
    {
     "data": {
      "text/html": [
       "<div>\n",
       "<style scoped>\n",
       "    .dataframe tbody tr th:only-of-type {\n",
       "        vertical-align: middle;\n",
       "    }\n",
       "\n",
       "    .dataframe tbody tr th {\n",
       "        vertical-align: top;\n",
       "    }\n",
       "\n",
       "    .dataframe thead th {\n",
       "        text-align: right;\n",
       "    }\n",
       "</style>\n",
       "<table border=\"1\" class=\"dataframe\">\n",
       "  <thead>\n",
       "    <tr style=\"text-align: right;\">\n",
       "      <th></th>\n",
       "      <th>cough</th>\n",
       "      <th>fever</th>\n",
       "      <th>sore_throat</th>\n",
       "      <th>shortness_of_breath</th>\n",
       "      <th>head_ache</th>\n",
       "      <th>other</th>\n",
       "    </tr>\n",
       "  </thead>\n",
       "  <tbody>\n",
       "    <tr>\n",
       "      <th>875684</th>\n",
       "      <td>0</td>\n",
       "      <td>0</td>\n",
       "      <td>0</td>\n",
       "      <td>0</td>\n",
       "      <td>0</td>\n",
       "      <td>0</td>\n",
       "    </tr>\n",
       "    <tr>\n",
       "      <th>639067</th>\n",
       "      <td>0</td>\n",
       "      <td>0</td>\n",
       "      <td>0</td>\n",
       "      <td>0</td>\n",
       "      <td>1</td>\n",
       "      <td>0</td>\n",
       "    </tr>\n",
       "    <tr>\n",
       "      <th>701471</th>\n",
       "      <td>0</td>\n",
       "      <td>0</td>\n",
       "      <td>0</td>\n",
       "      <td>0</td>\n",
       "      <td>0</td>\n",
       "      <td>0</td>\n",
       "    </tr>\n",
       "    <tr>\n",
       "      <th>410204</th>\n",
       "      <td>0</td>\n",
       "      <td>0</td>\n",
       "      <td>0</td>\n",
       "      <td>0</td>\n",
       "      <td>0</td>\n",
       "      <td>0</td>\n",
       "    </tr>\n",
       "    <tr>\n",
       "      <th>577968</th>\n",
       "      <td>0</td>\n",
       "      <td>0</td>\n",
       "      <td>0</td>\n",
       "      <td>0</td>\n",
       "      <td>0</td>\n",
       "      <td>0</td>\n",
       "    </tr>\n",
       "    <tr>\n",
       "      <th>...</th>\n",
       "      <td>...</td>\n",
       "      <td>...</td>\n",
       "      <td>...</td>\n",
       "      <td>...</td>\n",
       "      <td>...</td>\n",
       "      <td>...</td>\n",
       "    </tr>\n",
       "    <tr>\n",
       "      <th>707130</th>\n",
       "      <td>1</td>\n",
       "      <td>0</td>\n",
       "      <td>0</td>\n",
       "      <td>0</td>\n",
       "      <td>1</td>\n",
       "      <td>0</td>\n",
       "    </tr>\n",
       "    <tr>\n",
       "      <th>447958</th>\n",
       "      <td>0</td>\n",
       "      <td>0</td>\n",
       "      <td>0</td>\n",
       "      <td>0</td>\n",
       "      <td>0</td>\n",
       "      <td>0</td>\n",
       "    </tr>\n",
       "    <tr>\n",
       "      <th>715160</th>\n",
       "      <td>0</td>\n",
       "      <td>0</td>\n",
       "      <td>0</td>\n",
       "      <td>0</td>\n",
       "      <td>0</td>\n",
       "      <td>0</td>\n",
       "    </tr>\n",
       "    <tr>\n",
       "      <th>485745</th>\n",
       "      <td>0</td>\n",
       "      <td>0</td>\n",
       "      <td>0</td>\n",
       "      <td>0</td>\n",
       "      <td>0</td>\n",
       "      <td>0</td>\n",
       "    </tr>\n",
       "    <tr>\n",
       "      <th>492555</th>\n",
       "      <td>0</td>\n",
       "      <td>0</td>\n",
       "      <td>0</td>\n",
       "      <td>0</td>\n",
       "      <td>0</td>\n",
       "      <td>0</td>\n",
       "    </tr>\n",
       "  </tbody>\n",
       "</table>\n",
       "<p>786431 rows × 6 columns</p>\n",
       "</div>"
      ],
      "text/plain": [
       "        cough  fever  sore_throat  shortness_of_breath  head_ache  other\n",
       "875684      0      0            0                    0          0      0\n",
       "639067      0      0            0                    0          1      0\n",
       "701471      0      0            0                    0          0      0\n",
       "410204      0      0            0                    0          0      0\n",
       "577968      0      0            0                    0          0      0\n",
       "...       ...    ...          ...                  ...        ...    ...\n",
       "707130      1      0            0                    0          1      0\n",
       "447958      0      0            0                    0          0      0\n",
       "715160      0      0            0                    0          0      0\n",
       "485745      0      0            0                    0          0      0\n",
       "492555      0      0            0                    0          0      0\n",
       "\n",
       "[786431 rows x 6 columns]"
      ]
     },
     "execution_count": 46,
     "metadata": {},
     "output_type": "execute_result"
    }
   ],
   "source": [
    "x_train"
   ]
  },
  {
   "cell_type": "code",
   "execution_count": 47,
   "id": "52fd34f9",
   "metadata": {},
   "outputs": [],
   "source": [
    "#instantiate models\n",
    "lr = LogisticRegression()\n",
    "dt = DecisionTreeClassifier()\n",
    "rf = RandomForestClassifier()\n",
    "ada = AdaBoostClassifier()\n",
    "gb = GradientBoostingClassifier()\n",
    "svc = SVC()\n",
    "\n",
    "models = [lr, dt, rf, svc]"
   ]
  },
  {
   "cell_type": "code",
   "execution_count": 48,
   "id": "bda36769",
   "metadata": {},
   "outputs": [
    {
     "name": "stdout",
     "output_type": "stream",
     "text": [
      "              precision    recall  f1-score   support\n",
      "\n",
      "           0       0.91      0.99      0.95     57922\n",
      "           1       0.00      0.00      0.00      1135\n",
      "           2       0.72      0.31      0.43      6479\n",
      "\n",
      "    accuracy                           0.90     65536\n",
      "   macro avg       0.54      0.43      0.46     65536\n",
      "weighted avg       0.88      0.90      0.88     65536\n",
      "\n"
     ]
    },
    {
     "name": "stderr",
     "output_type": "stream",
     "text": [
      "C:\\Users\\Nkatha\\anaconda3\\lib\\site-packages\\sklearn\\metrics\\_classification.py:1245: UndefinedMetricWarning: Precision and F-score are ill-defined and being set to 0.0 in labels with no predicted samples. Use `zero_division` parameter to control this behavior.\n",
      "  _warn_prf(average, modifier, msg_start, len(result))\n",
      "C:\\Users\\Nkatha\\anaconda3\\lib\\site-packages\\sklearn\\metrics\\_classification.py:1245: UndefinedMetricWarning: Precision and F-score are ill-defined and being set to 0.0 in labels with no predicted samples. Use `zero_division` parameter to control this behavior.\n",
      "  _warn_prf(average, modifier, msg_start, len(result))\n",
      "C:\\Users\\Nkatha\\anaconda3\\lib\\site-packages\\sklearn\\metrics\\_classification.py:1245: UndefinedMetricWarning: Precision and F-score are ill-defined and being set to 0.0 in labels with no predicted samples. Use `zero_division` parameter to control this behavior.\n",
      "  _warn_prf(average, modifier, msg_start, len(result))\n"
     ]
    }
   ],
   "source": [
    "dt.fit(x_train, y_train)\n",
    "predictions = dt.predict(x_val)\n",
    "print(classification_report(y_val, predictions))"
   ]
  },
  {
   "cell_type": "code",
   "execution_count": 49,
   "id": "46faa28d",
   "metadata": {},
   "outputs": [
    {
     "name": "stdout",
     "output_type": "stream",
     "text": [
      "              precision    recall  f1-score   support\n",
      "\n",
      "           0       0.90      0.99      0.95     57922\n",
      "           1       0.00      0.00      0.00      1135\n",
      "           2       0.77      0.22      0.34      6479\n",
      "\n",
      "    accuracy                           0.90     65536\n",
      "   macro avg       0.56      0.40      0.43     65536\n",
      "weighted avg       0.87      0.90      0.87     65536\n",
      "\n"
     ]
    },
    {
     "name": "stderr",
     "output_type": "stream",
     "text": [
      "C:\\Users\\Nkatha\\anaconda3\\lib\\site-packages\\sklearn\\metrics\\_classification.py:1245: UndefinedMetricWarning: Precision and F-score are ill-defined and being set to 0.0 in labels with no predicted samples. Use `zero_division` parameter to control this behavior.\n",
      "  _warn_prf(average, modifier, msg_start, len(result))\n",
      "C:\\Users\\Nkatha\\anaconda3\\lib\\site-packages\\sklearn\\metrics\\_classification.py:1245: UndefinedMetricWarning: Precision and F-score are ill-defined and being set to 0.0 in labels with no predicted samples. Use `zero_division` parameter to control this behavior.\n",
      "  _warn_prf(average, modifier, msg_start, len(result))\n",
      "C:\\Users\\Nkatha\\anaconda3\\lib\\site-packages\\sklearn\\metrics\\_classification.py:1245: UndefinedMetricWarning: Precision and F-score are ill-defined and being set to 0.0 in labels with no predicted samples. Use `zero_division` parameter to control this behavior.\n",
      "  _warn_prf(average, modifier, msg_start, len(result))\n"
     ]
    }
   ],
   "source": [
    "lr.fit(x_train, y_train)\n",
    "predictions = lr.predict(x_val)\n",
    "print(classification_report(y_val, predictions))"
   ]
  },
  {
   "cell_type": "code",
   "execution_count": 50,
   "id": "48336002",
   "metadata": {
    "scrolled": true
   },
   "outputs": [
    {
     "data": {
      "text/plain": [
       "['linear.pkl']"
      ]
     },
     "execution_count": 50,
     "metadata": {},
     "output_type": "execute_result"
    }
   ],
   "source": [
    "import joblib\n",
    "\n",
    "joblib.dump(dt, 'DecisionT.pkl')\n",
    "joblib.dump(lr, 'linear.pkl')"
   ]
  }
 ],
 "metadata": {
  "kernelspec": {
   "display_name": "Python 3",
   "language": "python",
   "name": "python3"
  },
  "language_info": {
   "codemirror_mode": {
    "name": "ipython",
    "version": 3
   },
   "file_extension": ".py",
   "mimetype": "text/x-python",
   "name": "python",
   "nbconvert_exporter": "python",
   "pygments_lexer": "ipython3",
   "version": "3.8.8"
  }
 },
 "nbformat": 4,
 "nbformat_minor": 5
}
